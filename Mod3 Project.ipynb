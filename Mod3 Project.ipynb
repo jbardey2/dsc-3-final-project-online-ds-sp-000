{
 "cells": [
  {
   "cell_type": "markdown",
   "metadata": {},
   "source": [
    "## Module 3 Project - Bank Marketing Classification\n",
    "\n",
    "* Jonathan Bardey\n",
    "* Flatiron School - Data Science\n"
   ]
  },
  {
   "cell_type": "markdown",
   "metadata": {},
   "source": [
    "### Introduction\n",
    "* For this project, we will use supervised Machine Learning models to classify and predict whether potential customers of a bank direct marketing campaign subscribe to the bank term deposit.\n",
    "* Several models will be trained and evaluated using metrics such as Accuracy, Precision and Recall.\n",
    "* Attributes of the dataset will be analyzed to determine the most important predictors of our target class."
   ]
  },
  {
   "cell_type": "code",
   "execution_count": 1,
   "metadata": {},
   "outputs": [
    {
     "name": "stderr",
     "output_type": "stream",
     "text": [
      "Using TensorFlow backend.\n"
     ]
    }
   ],
   "source": [
    "#import necessary libraries\n",
    "\n",
    "import pandas as pd\n",
    "import numpy as np\n",
    "import matplotlib.pyplot as plt\n",
    "%matplotlib inline\n",
    "import seaborn as sns\n",
    "sns.set_style('darkgrid')\n",
    "import warnings\n",
    "warnings.filterwarnings('ignore')\n",
    "\n",
    "\n",
    "from sklearn.preprocessing import StandardScaler\n",
    "from sklearn.model_selection import train_test_split, GridSearchCV\n",
    "from sklearn.metrics import confusion_matrix, classification_report\n",
    "from sklearn.metrics import accuracy_score, recall_score, precision_score, f1_score, make_scorer\n",
    "from sklearn.tree import DecisionTreeClassifier\n",
    "from sklearn.ensemble import RandomForestClassifier\n",
    "from sklearn.linear_model import LogisticRegression\n",
    "from imblearn.over_sampling import SMOTE\n",
    "\n",
    "#universal random state for modeling\n",
    "random_state = 42"
   ]
  },
  {
   "cell_type": "code",
   "execution_count": 2,
   "metadata": {},
   "outputs": [
    {
     "data": {
      "text/html": [
       "<div>\n",
       "<style scoped>\n",
       "    .dataframe tbody tr th:only-of-type {\n",
       "        vertical-align: middle;\n",
       "    }\n",
       "\n",
       "    .dataframe tbody tr th {\n",
       "        vertical-align: top;\n",
       "    }\n",
       "\n",
       "    .dataframe thead th {\n",
       "        text-align: right;\n",
       "    }\n",
       "</style>\n",
       "<table border=\"1\" class=\"dataframe\">\n",
       "  <thead>\n",
       "    <tr style=\"text-align: right;\">\n",
       "      <th></th>\n",
       "      <th>age</th>\n",
       "      <th>job</th>\n",
       "      <th>marital</th>\n",
       "      <th>education</th>\n",
       "      <th>default</th>\n",
       "      <th>housing</th>\n",
       "      <th>loan</th>\n",
       "      <th>contact</th>\n",
       "      <th>month</th>\n",
       "      <th>day_of_week</th>\n",
       "      <th>...</th>\n",
       "      <th>campaign</th>\n",
       "      <th>pdays</th>\n",
       "      <th>previous</th>\n",
       "      <th>poutcome</th>\n",
       "      <th>emp.var.rate</th>\n",
       "      <th>cons.price.idx</th>\n",
       "      <th>cons.conf.idx</th>\n",
       "      <th>euribor3m</th>\n",
       "      <th>nr.employed</th>\n",
       "      <th>y</th>\n",
       "    </tr>\n",
       "  </thead>\n",
       "  <tbody>\n",
       "    <tr>\n",
       "      <th>0</th>\n",
       "      <td>56</td>\n",
       "      <td>housemaid</td>\n",
       "      <td>married</td>\n",
       "      <td>basic.4y</td>\n",
       "      <td>no</td>\n",
       "      <td>no</td>\n",
       "      <td>no</td>\n",
       "      <td>telephone</td>\n",
       "      <td>may</td>\n",
       "      <td>mon</td>\n",
       "      <td>...</td>\n",
       "      <td>1</td>\n",
       "      <td>999</td>\n",
       "      <td>0</td>\n",
       "      <td>nonexistent</td>\n",
       "      <td>1.1</td>\n",
       "      <td>93.994</td>\n",
       "      <td>-36.4</td>\n",
       "      <td>4.857</td>\n",
       "      <td>5191.0</td>\n",
       "      <td>no</td>\n",
       "    </tr>\n",
       "    <tr>\n",
       "      <th>1</th>\n",
       "      <td>57</td>\n",
       "      <td>services</td>\n",
       "      <td>married</td>\n",
       "      <td>high.school</td>\n",
       "      <td>unknown</td>\n",
       "      <td>no</td>\n",
       "      <td>no</td>\n",
       "      <td>telephone</td>\n",
       "      <td>may</td>\n",
       "      <td>mon</td>\n",
       "      <td>...</td>\n",
       "      <td>1</td>\n",
       "      <td>999</td>\n",
       "      <td>0</td>\n",
       "      <td>nonexistent</td>\n",
       "      <td>1.1</td>\n",
       "      <td>93.994</td>\n",
       "      <td>-36.4</td>\n",
       "      <td>4.857</td>\n",
       "      <td>5191.0</td>\n",
       "      <td>no</td>\n",
       "    </tr>\n",
       "    <tr>\n",
       "      <th>2</th>\n",
       "      <td>37</td>\n",
       "      <td>services</td>\n",
       "      <td>married</td>\n",
       "      <td>high.school</td>\n",
       "      <td>no</td>\n",
       "      <td>yes</td>\n",
       "      <td>no</td>\n",
       "      <td>telephone</td>\n",
       "      <td>may</td>\n",
       "      <td>mon</td>\n",
       "      <td>...</td>\n",
       "      <td>1</td>\n",
       "      <td>999</td>\n",
       "      <td>0</td>\n",
       "      <td>nonexistent</td>\n",
       "      <td>1.1</td>\n",
       "      <td>93.994</td>\n",
       "      <td>-36.4</td>\n",
       "      <td>4.857</td>\n",
       "      <td>5191.0</td>\n",
       "      <td>no</td>\n",
       "    </tr>\n",
       "    <tr>\n",
       "      <th>3</th>\n",
       "      <td>40</td>\n",
       "      <td>admin.</td>\n",
       "      <td>married</td>\n",
       "      <td>basic.6y</td>\n",
       "      <td>no</td>\n",
       "      <td>no</td>\n",
       "      <td>no</td>\n",
       "      <td>telephone</td>\n",
       "      <td>may</td>\n",
       "      <td>mon</td>\n",
       "      <td>...</td>\n",
       "      <td>1</td>\n",
       "      <td>999</td>\n",
       "      <td>0</td>\n",
       "      <td>nonexistent</td>\n",
       "      <td>1.1</td>\n",
       "      <td>93.994</td>\n",
       "      <td>-36.4</td>\n",
       "      <td>4.857</td>\n",
       "      <td>5191.0</td>\n",
       "      <td>no</td>\n",
       "    </tr>\n",
       "    <tr>\n",
       "      <th>4</th>\n",
       "      <td>56</td>\n",
       "      <td>services</td>\n",
       "      <td>married</td>\n",
       "      <td>high.school</td>\n",
       "      <td>no</td>\n",
       "      <td>no</td>\n",
       "      <td>yes</td>\n",
       "      <td>telephone</td>\n",
       "      <td>may</td>\n",
       "      <td>mon</td>\n",
       "      <td>...</td>\n",
       "      <td>1</td>\n",
       "      <td>999</td>\n",
       "      <td>0</td>\n",
       "      <td>nonexistent</td>\n",
       "      <td>1.1</td>\n",
       "      <td>93.994</td>\n",
       "      <td>-36.4</td>\n",
       "      <td>4.857</td>\n",
       "      <td>5191.0</td>\n",
       "      <td>no</td>\n",
       "    </tr>\n",
       "  </tbody>\n",
       "</table>\n",
       "<p>5 rows × 21 columns</p>\n",
       "</div>"
      ],
      "text/plain": [
       "   age        job  marital    education  default housing loan    contact  \\\n",
       "0   56  housemaid  married     basic.4y       no      no   no  telephone   \n",
       "1   57   services  married  high.school  unknown      no   no  telephone   \n",
       "2   37   services  married  high.school       no     yes   no  telephone   \n",
       "3   40     admin.  married     basic.6y       no      no   no  telephone   \n",
       "4   56   services  married  high.school       no      no  yes  telephone   \n",
       "\n",
       "  month day_of_week ...  campaign  pdays  previous     poutcome emp.var.rate  \\\n",
       "0   may         mon ...         1    999         0  nonexistent          1.1   \n",
       "1   may         mon ...         1    999         0  nonexistent          1.1   \n",
       "2   may         mon ...         1    999         0  nonexistent          1.1   \n",
       "3   may         mon ...         1    999         0  nonexistent          1.1   \n",
       "4   may         mon ...         1    999         0  nonexistent          1.1   \n",
       "\n",
       "   cons.price.idx  cons.conf.idx  euribor3m  nr.employed   y  \n",
       "0          93.994          -36.4      4.857       5191.0  no  \n",
       "1          93.994          -36.4      4.857       5191.0  no  \n",
       "2          93.994          -36.4      4.857       5191.0  no  \n",
       "3          93.994          -36.4      4.857       5191.0  no  \n",
       "4          93.994          -36.4      4.857       5191.0  no  \n",
       "\n",
       "[5 rows x 21 columns]"
      ]
     },
     "execution_count": 2,
     "metadata": {},
     "output_type": "execute_result"
    }
   ],
   "source": [
    "#read in and preview the dataset\n",
    "df = pd.read_csv('bank-additional-full.csv', delimiter=';')\n",
    "df.head()"
   ]
  },
  {
   "cell_type": "markdown",
   "metadata": {},
   "source": [
    "### Data Set Information:\n",
    "\n",
    "The data is related with direct marketing campaigns of a Portuguese banking institution. The marketing campaigns were based on phone calls. Often, more than one contact to the same client was required, in order to access if the product (bank term deposit) would be ('yes') or not ('no') subscribed.\n",
    "\n",
    "### Attribute Information:\n",
    "\n",
    "#### Input variables:\n",
    "##### Client data:\n",
    "1. age (numeric) \n",
    "2. job : type of job (categorical: 'admin.','blue-collar','entrepreneur','housemaid','management','retired','self-employed','services','student','technician','unemployed','unknown')\n",
    "3. marital : marital status (categorical: 'divorced','married','single','unknown'; note: 'divorced' means divorced or widowed)\n",
    "4. education (categorical: 'basic.4y','basic.6y','basic.9y','high.school','illiterate','professional.course','university.degree','unknown')\n",
    "5. default: has credit in default? (categorical: 'no','yes','unknown')\n",
    "6. housing: has housing loan? (categorical: 'no','yes','unknown')\n",
    "7. loan: has personal loan? (categorical: 'no','yes','unknown') "
   ]
  },
  {
   "cell_type": "markdown",
   "metadata": {},
   "source": [
    "##### Related with the last contact of the current campaign: \n",
    "8. contact: contact communication type (categorical: 'cellular','telephone')\n",
    "9.   month: last contact month of year (categorical: 'jan', 'feb', 'mar', ..., 'nov', 'dec')\n",
    "10. day_of_week: last contact day of the week (categorical: 'mon','tue','wed','thu','fri')\n",
    "11. duration: last contact duration, in seconds (numeric). Important note: this attribute highly affects the output target (e.g., if duration=0 then y='no'). Yet, the duration is not known before a call is performed. Also, after the end of the call y is obviously known. Thus, this input should only be included for benchmark purposes and should be discarded if the intention is to have a realistic predictive model. "
   ]
  },
  {
   "cell_type": "markdown",
   "metadata": {},
   "source": [
    "##### Other attributes: \n",
    "12.  campaign: number of contacts performed during this campaign and for this client (numeric, includes last contact)\n",
    "13.  pdays: number of days that passed by after the client was last contacted from a previous campaign (numeric; 999 means client was not previously contacted)\n",
    "14.  previous: number of contacts performed before this campaign and for this client (numeric)\n",
    "15.  poutcome: outcome of the previous marketing campaign (categorical: 'failure','nonexistent','success') \n"
   ]
  },
  {
   "cell_type": "markdown",
   "metadata": {},
   "source": [
    "##### Social and economic context attributes\n",
    "16. emp.var.rate: employment variation rate - quarterly indicator (numeric)\n",
    "17. cons.price.idx: consumer price index - monthly indicator (numeric)\n",
    "18. cons.conf.idx: consumer confidence index - monthly indicator (numeric)\n",
    "19. euribor3m: euribor 3 month rate - daily indicator (numeric)\n",
    "20. nr.employed: number of employees - quarterly indicator (numeric)\n"
   ]
  },
  {
   "cell_type": "markdown",
   "metadata": {},
   "source": [
    "#### Output variable (desired target)\n",
    "21. y - has the client subscribed a term deposit? (binary: 'yes','no') "
   ]
  },
  {
   "cell_type": "markdown",
   "metadata": {},
   "source": [
    "#### Source:\n",
    "Dataset from : http://archive.ics.uci.edu/ml/datasets/Bank+Marketing#"
   ]
  },
  {
   "cell_type": "code",
   "execution_count": 3,
   "metadata": {},
   "outputs": [
    {
     "name": "stdout",
     "output_type": "stream",
     "text": [
      "<class 'pandas.core.frame.DataFrame'>\n",
      "RangeIndex: 41188 entries, 0 to 41187\n",
      "Data columns (total 21 columns):\n",
      "age               41188 non-null int64\n",
      "job               41188 non-null object\n",
      "marital           41188 non-null object\n",
      "education         41188 non-null object\n",
      "default           41188 non-null object\n",
      "housing           41188 non-null object\n",
      "loan              41188 non-null object\n",
      "contact           41188 non-null object\n",
      "month             41188 non-null object\n",
      "day_of_week       41188 non-null object\n",
      "duration          41188 non-null int64\n",
      "campaign          41188 non-null int64\n",
      "pdays             41188 non-null int64\n",
      "previous          41188 non-null int64\n",
      "poutcome          41188 non-null object\n",
      "emp.var.rate      41188 non-null float64\n",
      "cons.price.idx    41188 non-null float64\n",
      "cons.conf.idx     41188 non-null float64\n",
      "euribor3m         41188 non-null float64\n",
      "nr.employed       41188 non-null float64\n",
      "y                 41188 non-null object\n",
      "dtypes: float64(5), int64(5), object(11)\n",
      "memory usage: 6.6+ MB\n"
     ]
    }
   ],
   "source": [
    "#Preview the columns and data types\n",
    "df.info()"
   ]
  },
  {
   "cell_type": "code",
   "execution_count": 4,
   "metadata": {},
   "outputs": [
    {
     "data": {
      "text/plain": [
       "age               0\n",
       "job               0\n",
       "marital           0\n",
       "education         0\n",
       "default           0\n",
       "housing           0\n",
       "loan              0\n",
       "contact           0\n",
       "month             0\n",
       "day_of_week       0\n",
       "duration          0\n",
       "campaign          0\n",
       "pdays             0\n",
       "previous          0\n",
       "poutcome          0\n",
       "emp.var.rate      0\n",
       "cons.price.idx    0\n",
       "cons.conf.idx     0\n",
       "euribor3m         0\n",
       "nr.employed       0\n",
       "y                 0\n",
       "dtype: int64"
      ]
     },
     "execution_count": 4,
     "metadata": {},
     "output_type": "execute_result"
    }
   ],
   "source": [
    "#check for null values\n",
    "df.isnull().sum()"
   ]
  },
  {
   "cell_type": "markdown",
   "metadata": {},
   "source": [
    "There are no null values.  Thanks UCI for the clean dataset!"
   ]
  },
  {
   "cell_type": "code",
   "execution_count": 5,
   "metadata": {},
   "outputs": [
    {
     "data": {
      "text/html": [
       "<div>\n",
       "<style scoped>\n",
       "    .dataframe tbody tr th:only-of-type {\n",
       "        vertical-align: middle;\n",
       "    }\n",
       "\n",
       "    .dataframe tbody tr th {\n",
       "        vertical-align: top;\n",
       "    }\n",
       "\n",
       "    .dataframe thead th {\n",
       "        text-align: right;\n",
       "    }\n",
       "</style>\n",
       "<table border=\"1\" class=\"dataframe\">\n",
       "  <thead>\n",
       "    <tr style=\"text-align: right;\">\n",
       "      <th></th>\n",
       "      <th>age</th>\n",
       "      <th>duration</th>\n",
       "      <th>campaign</th>\n",
       "      <th>pdays</th>\n",
       "      <th>previous</th>\n",
       "      <th>emp.var.rate</th>\n",
       "      <th>cons.price.idx</th>\n",
       "      <th>cons.conf.idx</th>\n",
       "      <th>euribor3m</th>\n",
       "      <th>nr.employed</th>\n",
       "    </tr>\n",
       "  </thead>\n",
       "  <tbody>\n",
       "    <tr>\n",
       "      <th>count</th>\n",
       "      <td>41188.00000</td>\n",
       "      <td>41188.000000</td>\n",
       "      <td>41188.000000</td>\n",
       "      <td>41188.000000</td>\n",
       "      <td>41188.000000</td>\n",
       "      <td>41188.000000</td>\n",
       "      <td>41188.000000</td>\n",
       "      <td>41188.000000</td>\n",
       "      <td>41188.000000</td>\n",
       "      <td>41188.000000</td>\n",
       "    </tr>\n",
       "    <tr>\n",
       "      <th>mean</th>\n",
       "      <td>40.02406</td>\n",
       "      <td>258.285010</td>\n",
       "      <td>2.567593</td>\n",
       "      <td>962.475454</td>\n",
       "      <td>0.172963</td>\n",
       "      <td>0.081886</td>\n",
       "      <td>93.575664</td>\n",
       "      <td>-40.502600</td>\n",
       "      <td>3.621291</td>\n",
       "      <td>5167.035911</td>\n",
       "    </tr>\n",
       "    <tr>\n",
       "      <th>std</th>\n",
       "      <td>10.42125</td>\n",
       "      <td>259.279249</td>\n",
       "      <td>2.770014</td>\n",
       "      <td>186.910907</td>\n",
       "      <td>0.494901</td>\n",
       "      <td>1.570960</td>\n",
       "      <td>0.578840</td>\n",
       "      <td>4.628198</td>\n",
       "      <td>1.734447</td>\n",
       "      <td>72.251528</td>\n",
       "    </tr>\n",
       "    <tr>\n",
       "      <th>min</th>\n",
       "      <td>17.00000</td>\n",
       "      <td>0.000000</td>\n",
       "      <td>1.000000</td>\n",
       "      <td>0.000000</td>\n",
       "      <td>0.000000</td>\n",
       "      <td>-3.400000</td>\n",
       "      <td>92.201000</td>\n",
       "      <td>-50.800000</td>\n",
       "      <td>0.634000</td>\n",
       "      <td>4963.600000</td>\n",
       "    </tr>\n",
       "    <tr>\n",
       "      <th>25%</th>\n",
       "      <td>32.00000</td>\n",
       "      <td>102.000000</td>\n",
       "      <td>1.000000</td>\n",
       "      <td>999.000000</td>\n",
       "      <td>0.000000</td>\n",
       "      <td>-1.800000</td>\n",
       "      <td>93.075000</td>\n",
       "      <td>-42.700000</td>\n",
       "      <td>1.344000</td>\n",
       "      <td>5099.100000</td>\n",
       "    </tr>\n",
       "    <tr>\n",
       "      <th>50%</th>\n",
       "      <td>38.00000</td>\n",
       "      <td>180.000000</td>\n",
       "      <td>2.000000</td>\n",
       "      <td>999.000000</td>\n",
       "      <td>0.000000</td>\n",
       "      <td>1.100000</td>\n",
       "      <td>93.749000</td>\n",
       "      <td>-41.800000</td>\n",
       "      <td>4.857000</td>\n",
       "      <td>5191.000000</td>\n",
       "    </tr>\n",
       "    <tr>\n",
       "      <th>75%</th>\n",
       "      <td>47.00000</td>\n",
       "      <td>319.000000</td>\n",
       "      <td>3.000000</td>\n",
       "      <td>999.000000</td>\n",
       "      <td>0.000000</td>\n",
       "      <td>1.400000</td>\n",
       "      <td>93.994000</td>\n",
       "      <td>-36.400000</td>\n",
       "      <td>4.961000</td>\n",
       "      <td>5228.100000</td>\n",
       "    </tr>\n",
       "    <tr>\n",
       "      <th>max</th>\n",
       "      <td>98.00000</td>\n",
       "      <td>4918.000000</td>\n",
       "      <td>56.000000</td>\n",
       "      <td>999.000000</td>\n",
       "      <td>7.000000</td>\n",
       "      <td>1.400000</td>\n",
       "      <td>94.767000</td>\n",
       "      <td>-26.900000</td>\n",
       "      <td>5.045000</td>\n",
       "      <td>5228.100000</td>\n",
       "    </tr>\n",
       "  </tbody>\n",
       "</table>\n",
       "</div>"
      ],
      "text/plain": [
       "               age      duration      campaign         pdays      previous  \\\n",
       "count  41188.00000  41188.000000  41188.000000  41188.000000  41188.000000   \n",
       "mean      40.02406    258.285010      2.567593    962.475454      0.172963   \n",
       "std       10.42125    259.279249      2.770014    186.910907      0.494901   \n",
       "min       17.00000      0.000000      1.000000      0.000000      0.000000   \n",
       "25%       32.00000    102.000000      1.000000    999.000000      0.000000   \n",
       "50%       38.00000    180.000000      2.000000    999.000000      0.000000   \n",
       "75%       47.00000    319.000000      3.000000    999.000000      0.000000   \n",
       "max       98.00000   4918.000000     56.000000    999.000000      7.000000   \n",
       "\n",
       "       emp.var.rate  cons.price.idx  cons.conf.idx     euribor3m   nr.employed  \n",
       "count  41188.000000    41188.000000   41188.000000  41188.000000  41188.000000  \n",
       "mean       0.081886       93.575664     -40.502600      3.621291   5167.035911  \n",
       "std        1.570960        0.578840       4.628198      1.734447     72.251528  \n",
       "min       -3.400000       92.201000     -50.800000      0.634000   4963.600000  \n",
       "25%       -1.800000       93.075000     -42.700000      1.344000   5099.100000  \n",
       "50%        1.100000       93.749000     -41.800000      4.857000   5191.000000  \n",
       "75%        1.400000       93.994000     -36.400000      4.961000   5228.100000  \n",
       "max        1.400000       94.767000     -26.900000      5.045000   5228.100000  "
      ]
     },
     "execution_count": 5,
     "metadata": {},
     "output_type": "execute_result"
    }
   ],
   "source": [
    "#Look at five point statistics for numerical features\n",
    "df.describe()"
   ]
  },
  {
   "cell_type": "code",
   "execution_count": 6,
   "metadata": {},
   "outputs": [
    {
     "data": {
      "text/html": [
       "<div>\n",
       "<style scoped>\n",
       "    .dataframe tbody tr th:only-of-type {\n",
       "        vertical-align: middle;\n",
       "    }\n",
       "\n",
       "    .dataframe tbody tr th {\n",
       "        vertical-align: top;\n",
       "    }\n",
       "\n",
       "    .dataframe thead th {\n",
       "        text-align: right;\n",
       "    }\n",
       "</style>\n",
       "<table border=\"1\" class=\"dataframe\">\n",
       "  <thead>\n",
       "    <tr style=\"text-align: right;\">\n",
       "      <th></th>\n",
       "      <th>age</th>\n",
       "      <th>job</th>\n",
       "      <th>marital</th>\n",
       "      <th>education</th>\n",
       "      <th>default</th>\n",
       "      <th>housing</th>\n",
       "      <th>loan</th>\n",
       "      <th>contact</th>\n",
       "      <th>month</th>\n",
       "      <th>day_of_week</th>\n",
       "      <th>...</th>\n",
       "      <th>campaign</th>\n",
       "      <th>pdays</th>\n",
       "      <th>previous</th>\n",
       "      <th>poutcome</th>\n",
       "      <th>emp.var.rate</th>\n",
       "      <th>cons.price.idx</th>\n",
       "      <th>cons.conf.idx</th>\n",
       "      <th>euribor3m</th>\n",
       "      <th>nr.employed</th>\n",
       "      <th>deposit</th>\n",
       "    </tr>\n",
       "  </thead>\n",
       "  <tbody>\n",
       "    <tr>\n",
       "      <th>0</th>\n",
       "      <td>56</td>\n",
       "      <td>housemaid</td>\n",
       "      <td>married</td>\n",
       "      <td>basic.4y</td>\n",
       "      <td>no</td>\n",
       "      <td>no</td>\n",
       "      <td>no</td>\n",
       "      <td>telephone</td>\n",
       "      <td>may</td>\n",
       "      <td>mon</td>\n",
       "      <td>...</td>\n",
       "      <td>1</td>\n",
       "      <td>999</td>\n",
       "      <td>0</td>\n",
       "      <td>nonexistent</td>\n",
       "      <td>1.1</td>\n",
       "      <td>93.994</td>\n",
       "      <td>-36.4</td>\n",
       "      <td>4.857</td>\n",
       "      <td>5191.0</td>\n",
       "      <td>no</td>\n",
       "    </tr>\n",
       "    <tr>\n",
       "      <th>1</th>\n",
       "      <td>57</td>\n",
       "      <td>services</td>\n",
       "      <td>married</td>\n",
       "      <td>high.school</td>\n",
       "      <td>unknown</td>\n",
       "      <td>no</td>\n",
       "      <td>no</td>\n",
       "      <td>telephone</td>\n",
       "      <td>may</td>\n",
       "      <td>mon</td>\n",
       "      <td>...</td>\n",
       "      <td>1</td>\n",
       "      <td>999</td>\n",
       "      <td>0</td>\n",
       "      <td>nonexistent</td>\n",
       "      <td>1.1</td>\n",
       "      <td>93.994</td>\n",
       "      <td>-36.4</td>\n",
       "      <td>4.857</td>\n",
       "      <td>5191.0</td>\n",
       "      <td>no</td>\n",
       "    </tr>\n",
       "    <tr>\n",
       "      <th>2</th>\n",
       "      <td>37</td>\n",
       "      <td>services</td>\n",
       "      <td>married</td>\n",
       "      <td>high.school</td>\n",
       "      <td>no</td>\n",
       "      <td>yes</td>\n",
       "      <td>no</td>\n",
       "      <td>telephone</td>\n",
       "      <td>may</td>\n",
       "      <td>mon</td>\n",
       "      <td>...</td>\n",
       "      <td>1</td>\n",
       "      <td>999</td>\n",
       "      <td>0</td>\n",
       "      <td>nonexistent</td>\n",
       "      <td>1.1</td>\n",
       "      <td>93.994</td>\n",
       "      <td>-36.4</td>\n",
       "      <td>4.857</td>\n",
       "      <td>5191.0</td>\n",
       "      <td>no</td>\n",
       "    </tr>\n",
       "    <tr>\n",
       "      <th>3</th>\n",
       "      <td>40</td>\n",
       "      <td>admin.</td>\n",
       "      <td>married</td>\n",
       "      <td>basic.6y</td>\n",
       "      <td>no</td>\n",
       "      <td>no</td>\n",
       "      <td>no</td>\n",
       "      <td>telephone</td>\n",
       "      <td>may</td>\n",
       "      <td>mon</td>\n",
       "      <td>...</td>\n",
       "      <td>1</td>\n",
       "      <td>999</td>\n",
       "      <td>0</td>\n",
       "      <td>nonexistent</td>\n",
       "      <td>1.1</td>\n",
       "      <td>93.994</td>\n",
       "      <td>-36.4</td>\n",
       "      <td>4.857</td>\n",
       "      <td>5191.0</td>\n",
       "      <td>no</td>\n",
       "    </tr>\n",
       "    <tr>\n",
       "      <th>4</th>\n",
       "      <td>56</td>\n",
       "      <td>services</td>\n",
       "      <td>married</td>\n",
       "      <td>high.school</td>\n",
       "      <td>no</td>\n",
       "      <td>no</td>\n",
       "      <td>yes</td>\n",
       "      <td>telephone</td>\n",
       "      <td>may</td>\n",
       "      <td>mon</td>\n",
       "      <td>...</td>\n",
       "      <td>1</td>\n",
       "      <td>999</td>\n",
       "      <td>0</td>\n",
       "      <td>nonexistent</td>\n",
       "      <td>1.1</td>\n",
       "      <td>93.994</td>\n",
       "      <td>-36.4</td>\n",
       "      <td>4.857</td>\n",
       "      <td>5191.0</td>\n",
       "      <td>no</td>\n",
       "    </tr>\n",
       "  </tbody>\n",
       "</table>\n",
       "<p>5 rows × 21 columns</p>\n",
       "</div>"
      ],
      "text/plain": [
       "   age        job  marital    education  default housing loan    contact  \\\n",
       "0   56  housemaid  married     basic.4y       no      no   no  telephone   \n",
       "1   57   services  married  high.school  unknown      no   no  telephone   \n",
       "2   37   services  married  high.school       no     yes   no  telephone   \n",
       "3   40     admin.  married     basic.6y       no      no   no  telephone   \n",
       "4   56   services  married  high.school       no      no  yes  telephone   \n",
       "\n",
       "  month day_of_week   ...     campaign  pdays  previous     poutcome  \\\n",
       "0   may         mon   ...            1    999         0  nonexistent   \n",
       "1   may         mon   ...            1    999         0  nonexistent   \n",
       "2   may         mon   ...            1    999         0  nonexistent   \n",
       "3   may         mon   ...            1    999         0  nonexistent   \n",
       "4   may         mon   ...            1    999         0  nonexistent   \n",
       "\n",
       "  emp.var.rate  cons.price.idx  cons.conf.idx  euribor3m  nr.employed  deposit  \n",
       "0          1.1          93.994          -36.4      4.857       5191.0       no  \n",
       "1          1.1          93.994          -36.4      4.857       5191.0       no  \n",
       "2          1.1          93.994          -36.4      4.857       5191.0       no  \n",
       "3          1.1          93.994          -36.4      4.857       5191.0       no  \n",
       "4          1.1          93.994          -36.4      4.857       5191.0       no  \n",
       "\n",
       "[5 rows x 21 columns]"
      ]
     },
     "execution_count": 6,
     "metadata": {},
     "output_type": "execute_result"
    }
   ],
   "source": [
    "#Rename target column to 'deposit' as we want to ascertain whether or not the client subscribed to a term deposit\n",
    "df.rename(columns = {'y' : 'deposit'}, inplace=True)\n",
    "df.head()"
   ]
  },
  {
   "cell_type": "code",
   "execution_count": 7,
   "metadata": {},
   "outputs": [
    {
     "name": "stdout",
     "output_type": "stream",
     "text": [
      "no     36548\n",
      "yes     4640\n",
      "Name: deposit, dtype: int64\n"
     ]
    },
    {
     "data": {
      "image/png": "[encoded data removed]",
      "text/plain": [
       "<Figure size 432x288 with 1 Axes>"
      ]
     },
     "metadata": {
      "needs_background": "light"
     },
     "output_type": "display_data"
    },
    {
     "name": "stdout",
     "output_type": "stream",
     "text": [
      "11.27% of the 41188 calls resulted in deposits.\n"
     ]
    }
   ],
   "source": [
    "#lets check and plot occurences of our target variable 'deposit'\n",
    "print(df.deposit.value_counts())\n",
    "sns.countplot(df.deposit)\n",
    "plt.show()\n",
    "print(f'{round(sum(df.deposit == \"yes\") / len(df)*100, 2)}% of the {len(df)} calls resulted in deposits.')"
   ]
  },
  {
   "cell_type": "markdown",
   "metadata": {},
   "source": [
    "As seen above the dataset is imbalanced towards 'no' deposit.  At a later stage we may want use a resampling technique to balance our data for modeling."
   ]
  },
  {
   "cell_type": "markdown",
   "metadata": {},
   "source": [
    "#### Examining the Duration Column\n",
    "According to the provided dataset information, the duration feature \"*highly affects the output target (e.g., if duration=0 then y='no'). Yet, the duration is not known before a call is performed. Also, after the end of the call y is obviously known. Thus, this input should only be included for benchmark purposes and should be discarded if the intention is to have a realistic predictive model.*\" <br>\n",
    "Before discarding the column, I just want to look at distributions for duration of calls by target class."
   ]
  },
  {
   "cell_type": "code",
   "execution_count": 8,
   "metadata": {},
   "outputs": [
    {
     "data": {
      "image/png": "[encoded data removed]",
      "text/plain": [
       "<Figure size 576x432 with 1 Axes>"
      ]
     },
     "metadata": {
      "needs_background": "light"
     },
     "output_type": "display_data"
    }
   ],
   "source": [
    "#violin plot of duration by yes or no deposit\n",
    "df['all'] = \"\"\n",
    "plt.figure(figsize=(8,6))\n",
    "sns.violinplot(x=\"all\", y=\"duration\", hue=\"deposit\", hue_order=['yes', 'no'], orient=\"v\", data=df)\n",
    "plt.xlabel(\"\")\n",
    "plt.title(\"Duration of call by yes or no deposit\")\n",
    "plt.ylim(top=3000)\n",
    "plt.show()\n",
    "df = df.drop('all', axis=1)"
   ]
  },
  {
   "cell_type": "code",
   "execution_count": 9,
   "metadata": {},
   "outputs": [
    {
     "name": "stdout",
     "output_type": "stream",
     "text": [
      "The mean call duration leading to a deposit is 9.22 minutes.\n",
      "The mean call duration leading to no is 3.68 minutes.\n"
     ]
    }
   ],
   "source": [
    "duration_yes = df.duration[df.deposit == 'yes']\n",
    "duration_no = df.duration[df.deposit == 'no']\n",
    "\n",
    "print(f'The mean call duration leading to a deposit is {round(duration_yes.mean()/60, 2)} minutes.')\n",
    "print(f'The mean call duration leading to no is {round(duration_no.mean()/60, 2)} minutes.')"
   ]
  },
  {
   "cell_type": "markdown",
   "metadata": {},
   "source": [
    "We see that there is definitely a noticeable difference in call duration for the two classes.  The average call that leads to a client subscribing to the term deposit is more than 5 minutes longer that for non-subscribers.  Intuitively, this makes sense as clients with more interest in the product would stay on the phone longer.  We will take the recommendation from the dataset provider and discard the column."
   ]
  },
  {
   "cell_type": "code",
   "execution_count": 10,
   "metadata": {},
   "outputs": [
    {
     "data": {
      "text/html": [
       "<div>\n",
       "<style scoped>\n",
       "    .dataframe tbody tr th:only-of-type {\n",
       "        vertical-align: middle;\n",
       "    }\n",
       "\n",
       "    .dataframe tbody tr th {\n",
       "        vertical-align: top;\n",
       "    }\n",
       "\n",
       "    .dataframe thead th {\n",
       "        text-align: right;\n",
       "    }\n",
       "</style>\n",
       "<table border=\"1\" class=\"dataframe\">\n",
       "  <thead>\n",
       "    <tr style=\"text-align: right;\">\n",
       "      <th></th>\n",
       "      <th>age</th>\n",
       "      <th>job</th>\n",
       "      <th>marital</th>\n",
       "      <th>education</th>\n",
       "      <th>default</th>\n",
       "      <th>housing</th>\n",
       "      <th>loan</th>\n",
       "      <th>contact</th>\n",
       "      <th>month</th>\n",
       "      <th>day_of_week</th>\n",
       "      <th>campaign</th>\n",
       "      <th>pdays</th>\n",
       "      <th>previous</th>\n",
       "      <th>poutcome</th>\n",
       "      <th>emp.var.rate</th>\n",
       "      <th>cons.price.idx</th>\n",
       "      <th>cons.conf.idx</th>\n",
       "      <th>euribor3m</th>\n",
       "      <th>nr.employed</th>\n",
       "      <th>deposit</th>\n",
       "    </tr>\n",
       "  </thead>\n",
       "  <tbody>\n",
       "    <tr>\n",
       "      <th>0</th>\n",
       "      <td>56</td>\n",
       "      <td>housemaid</td>\n",
       "      <td>married</td>\n",
       "      <td>basic.4y</td>\n",
       "      <td>no</td>\n",
       "      <td>no</td>\n",
       "      <td>no</td>\n",
       "      <td>telephone</td>\n",
       "      <td>may</td>\n",
       "      <td>mon</td>\n",
       "      <td>1</td>\n",
       "      <td>999</td>\n",
       "      <td>0</td>\n",
       "      <td>nonexistent</td>\n",
       "      <td>1.1</td>\n",
       "      <td>93.994</td>\n",
       "      <td>-36.4</td>\n",
       "      <td>4.857</td>\n",
       "      <td>5191.0</td>\n",
       "      <td>no</td>\n",
       "    </tr>\n",
       "    <tr>\n",
       "      <th>1</th>\n",
       "      <td>57</td>\n",
       "      <td>services</td>\n",
       "      <td>married</td>\n",
       "      <td>high.school</td>\n",
       "      <td>unknown</td>\n",
       "      <td>no</td>\n",
       "      <td>no</td>\n",
       "      <td>telephone</td>\n",
       "      <td>may</td>\n",
       "      <td>mon</td>\n",
       "      <td>1</td>\n",
       "      <td>999</td>\n",
       "      <td>0</td>\n",
       "      <td>nonexistent</td>\n",
       "      <td>1.1</td>\n",
       "      <td>93.994</td>\n",
       "      <td>-36.4</td>\n",
       "      <td>4.857</td>\n",
       "      <td>5191.0</td>\n",
       "      <td>no</td>\n",
       "    </tr>\n",
       "    <tr>\n",
       "      <th>2</th>\n",
       "      <td>37</td>\n",
       "      <td>services</td>\n",
       "      <td>married</td>\n",
       "      <td>high.school</td>\n",
       "      <td>no</td>\n",
       "      <td>yes</td>\n",
       "      <td>no</td>\n",
       "      <td>telephone</td>\n",
       "      <td>may</td>\n",
       "      <td>mon</td>\n",
       "      <td>1</td>\n",
       "      <td>999</td>\n",
       "      <td>0</td>\n",
       "      <td>nonexistent</td>\n",
       "      <td>1.1</td>\n",
       "      <td>93.994</td>\n",
       "      <td>-36.4</td>\n",
       "      <td>4.857</td>\n",
       "      <td>5191.0</td>\n",
       "      <td>no</td>\n",
       "    </tr>\n",
       "    <tr>\n",
       "      <th>3</th>\n",
       "      <td>40</td>\n",
       "      <td>admin.</td>\n",
       "      <td>married</td>\n",
       "      <td>basic.6y</td>\n",
       "      <td>no</td>\n",
       "      <td>no</td>\n",
       "      <td>no</td>\n",
       "      <td>telephone</td>\n",
       "      <td>may</td>\n",
       "      <td>mon</td>\n",
       "      <td>1</td>\n",
       "      <td>999</td>\n",
       "      <td>0</td>\n",
       "      <td>nonexistent</td>\n",
       "      <td>1.1</td>\n",
       "      <td>93.994</td>\n",
       "      <td>-36.4</td>\n",
       "      <td>4.857</td>\n",
       "      <td>5191.0</td>\n",
       "      <td>no</td>\n",
       "    </tr>\n",
       "    <tr>\n",
       "      <th>4</th>\n",
       "      <td>56</td>\n",
       "      <td>services</td>\n",
       "      <td>married</td>\n",
       "      <td>high.school</td>\n",
       "      <td>no</td>\n",
       "      <td>no</td>\n",
       "      <td>yes</td>\n",
       "      <td>telephone</td>\n",
       "      <td>may</td>\n",
       "      <td>mon</td>\n",
       "      <td>1</td>\n",
       "      <td>999</td>\n",
       "      <td>0</td>\n",
       "      <td>nonexistent</td>\n",
       "      <td>1.1</td>\n",
       "      <td>93.994</td>\n",
       "      <td>-36.4</td>\n",
       "      <td>4.857</td>\n",
       "      <td>5191.0</td>\n",
       "      <td>no</td>\n",
       "    </tr>\n",
       "  </tbody>\n",
       "</table>\n",
       "</div>"
      ],
      "text/plain": [
       "   age        job  marital    education  default housing loan    contact  \\\n",
       "0   56  housemaid  married     basic.4y       no      no   no  telephone   \n",
       "1   57   services  married  high.school  unknown      no   no  telephone   \n",
       "2   37   services  married  high.school       no     yes   no  telephone   \n",
       "3   40     admin.  married     basic.6y       no      no   no  telephone   \n",
       "4   56   services  married  high.school       no      no  yes  telephone   \n",
       "\n",
       "  month day_of_week  campaign  pdays  previous     poutcome  emp.var.rate  \\\n",
       "0   may         mon         1    999         0  nonexistent           1.1   \n",
       "1   may         mon         1    999         0  nonexistent           1.1   \n",
       "2   may         mon         1    999         0  nonexistent           1.1   \n",
       "3   may         mon         1    999         0  nonexistent           1.1   \n",
       "4   may         mon         1    999         0  nonexistent           1.1   \n",
       "\n",
       "   cons.price.idx  cons.conf.idx  euribor3m  nr.employed deposit  \n",
       "0          93.994          -36.4      4.857       5191.0      no  \n",
       "1          93.994          -36.4      4.857       5191.0      no  \n",
       "2          93.994          -36.4      4.857       5191.0      no  \n",
       "3          93.994          -36.4      4.857       5191.0      no  \n",
       "4          93.994          -36.4      4.857       5191.0      no  "
      ]
     },
     "execution_count": 10,
     "metadata": {},
     "output_type": "execute_result"
    }
   ],
   "source": [
    "#dropping Duration column\n",
    "df.drop('duration', axis=1, inplace=True)\n",
    "df.head()"
   ]
  },
  {
   "cell_type": "markdown",
   "metadata": {},
   "source": [
    "### Feature Exploration\n",
    "\n",
    "Next we will separate the numerical and categorical features for further exploration."
   ]
  },
  {
   "cell_type": "code",
   "execution_count": 11,
   "metadata": {},
   "outputs": [
    {
     "name": "stdout",
     "output_type": "stream",
     "text": [
      "There are 10 categorical features.\n",
      "\n",
      "Index(['job', 'marital', 'education', 'default', 'housing', 'loan', 'contact',\n",
      "       'month', 'day_of_week', 'poutcome'],\n",
      "      dtype='object')\n",
      "--------------------------------------------------\n",
      "There are 9 numerical features.\n",
      "\n",
      "Index(['age', 'campaign', 'pdays', 'previous', 'emp.var.rate',\n",
      "       'cons.price.idx', 'cons.conf.idx', 'euribor3m', 'nr.employed'],\n",
      "      dtype='object')\n"
     ]
    }
   ],
   "source": [
    "cat_features = df.select_dtypes(include = ['object'])\n",
    "cat_features = cat_features.drop('deposit', axis=1)\n",
    "num_features = df.select_dtypes(include = ['int64', 'float64'])\n",
    "print(f'There are {len(cat_features.columns)} categorical features.\\n')\n",
    "print(cat_features.columns)\n",
    "print('-' * 50)\n",
    "print(f'There are {len(num_features.columns)} numerical features.\\n')\n",
    "print(num_features.columns)"
   ]
  },
  {
   "cell_type": "code",
   "execution_count": 12,
   "metadata": {},
   "outputs": [
    {
     "data": {
      "text/html": [
       "<div>\n",
       "<style scoped>\n",
       "    .dataframe tbody tr th:only-of-type {\n",
       "        vertical-align: middle;\n",
       "    }\n",
       "\n",
       "    .dataframe tbody tr th {\n",
       "        vertical-align: top;\n",
       "    }\n",
       "\n",
       "    .dataframe thead th {\n",
       "        text-align: right;\n",
       "    }\n",
       "</style>\n",
       "<table border=\"1\" class=\"dataframe\">\n",
       "  <thead>\n",
       "    <tr style=\"text-align: right;\">\n",
       "      <th></th>\n",
       "      <th>job</th>\n",
       "      <th>marital</th>\n",
       "      <th>education</th>\n",
       "      <th>default</th>\n",
       "      <th>housing</th>\n",
       "      <th>loan</th>\n",
       "      <th>contact</th>\n",
       "      <th>month</th>\n",
       "      <th>day_of_week</th>\n",
       "      <th>poutcome</th>\n",
       "    </tr>\n",
       "  </thead>\n",
       "  <tbody>\n",
       "    <tr>\n",
       "      <th>0</th>\n",
       "      <td>housemaid</td>\n",
       "      <td>married</td>\n",
       "      <td>basic.4y</td>\n",
       "      <td>no</td>\n",
       "      <td>no</td>\n",
       "      <td>no</td>\n",
       "      <td>telephone</td>\n",
       "      <td>may</td>\n",
       "      <td>mon</td>\n",
       "      <td>nonexistent</td>\n",
       "    </tr>\n",
       "    <tr>\n",
       "      <th>1</th>\n",
       "      <td>services</td>\n",
       "      <td>married</td>\n",
       "      <td>high.school</td>\n",
       "      <td>unknown</td>\n",
       "      <td>no</td>\n",
       "      <td>no</td>\n",
       "      <td>telephone</td>\n",
       "      <td>may</td>\n",
       "      <td>mon</td>\n",
       "      <td>nonexistent</td>\n",
       "    </tr>\n",
       "    <tr>\n",
       "      <th>2</th>\n",
       "      <td>services</td>\n",
       "      <td>married</td>\n",
       "      <td>high.school</td>\n",
       "      <td>no</td>\n",
       "      <td>yes</td>\n",
       "      <td>no</td>\n",
       "      <td>telephone</td>\n",
       "      <td>may</td>\n",
       "      <td>mon</td>\n",
       "      <td>nonexistent</td>\n",
       "    </tr>\n",
       "    <tr>\n",
       "      <th>3</th>\n",
       "      <td>admin.</td>\n",
       "      <td>married</td>\n",
       "      <td>basic.6y</td>\n",
       "      <td>no</td>\n",
       "      <td>no</td>\n",
       "      <td>no</td>\n",
       "      <td>telephone</td>\n",
       "      <td>may</td>\n",
       "      <td>mon</td>\n",
       "      <td>nonexistent</td>\n",
       "    </tr>\n",
       "    <tr>\n",
       "      <th>4</th>\n",
       "      <td>services</td>\n",
       "      <td>married</td>\n",
       "      <td>high.school</td>\n",
       "      <td>no</td>\n",
       "      <td>no</td>\n",
       "      <td>yes</td>\n",
       "      <td>telephone</td>\n",
       "      <td>may</td>\n",
       "      <td>mon</td>\n",
       "      <td>nonexistent</td>\n",
       "    </tr>\n",
       "  </tbody>\n",
       "</table>\n",
       "</div>"
      ],
      "text/plain": [
       "         job  marital    education  default housing loan    contact month  \\\n",
       "0  housemaid  married     basic.4y       no      no   no  telephone   may   \n",
       "1   services  married  high.school  unknown      no   no  telephone   may   \n",
       "2   services  married  high.school       no     yes   no  telephone   may   \n",
       "3     admin.  married     basic.6y       no      no   no  telephone   may   \n",
       "4   services  married  high.school       no      no  yes  telephone   may   \n",
       "\n",
       "  day_of_week     poutcome  \n",
       "0         mon  nonexistent  \n",
       "1         mon  nonexistent  \n",
       "2         mon  nonexistent  \n",
       "3         mon  nonexistent  \n",
       "4         mon  nonexistent  "
      ]
     },
     "execution_count": 12,
     "metadata": {},
     "output_type": "execute_result"
    }
   ],
   "source": [
    "cat_features.head()"
   ]
  },
  {
   "cell_type": "code",
   "execution_count": 13,
   "metadata": {
    "scrolled": false
   },
   "outputs": [
    {
     "name": "stdout",
     "output_type": "stream",
     "text": [
      "job:\n",
      "\n",
      "admin.           10422\n",
      "blue-collar       9254\n",
      "technician        6743\n",
      "services          3969\n",
      "management        2924\n",
      "retired           1720\n",
      "entrepreneur      1456\n",
      "self-employed     1421\n",
      "housemaid         1060\n",
      "unemployed        1014\n",
      "student            875\n",
      "unknown            330\n",
      "Name: job, dtype: int64\n"
     ]
    },
    {
     "data": {
      "image/png": "[encoded data removed]",
      "text/plain": [
       "<Figure size 576x432 with 1 Axes>"
      ]
     },
     "metadata": {
      "needs_background": "light"
     },
     "output_type": "display_data"
    },
    {
     "name": "stdout",
     "output_type": "stream",
     "text": [
      "marital:\n",
      "\n",
      "married     24928\n",
      "single      11568\n",
      "divorced     4612\n",
      "unknown        80\n",
      "Name: marital, dtype: int64\n"
     ]
    },
    {
     "data": {
      "image/png": "[encoded data removed]",
      "text/plain": [
       "<Figure size 576x432 with 1 Axes>"
      ]
     },
     "metadata": {
      "needs_background": "light"
     },
     "output_type": "display_data"
    },
    {
     "name": "stdout",
     "output_type": "stream",
     "text": [
      "education:\n",
      "\n",
      "university.degree      12168\n",
      "high.school             9515\n",
      "basic.9y                6045\n",
      "professional.course     5243\n",
      "basic.4y                4176\n",
      "basic.6y                2292\n",
      "unknown                 1731\n",
      "illiterate                18\n",
      "Name: education, dtype: int64\n"
     ]
    },
    {
     "data": {
      "image/png": "[encoded data removed]",
      "text/plain": [
       "<Figure size 576x432 with 1 Axes>"
      ]
     },
     "metadata": {
      "needs_background": "light"
     },
     "output_type": "display_data"
    },
    {
     "name": "stdout",
     "output_type": "stream",
     "text": [
      "default:\n",
      "\n",
      "no         32588\n",
      "unknown     8597\n",
      "yes            3\n",
      "Name: default, dtype: int64\n"
     ]
    },
    {
     "data": {
      "image/png": "[encoded data removed]",
      "text/plain": [
       "<Figure size 576x432 with 1 Axes>"
      ]
     },
     "metadata": {
      "needs_background": "light"
     },
     "output_type": "display_data"
    },
    {
     "name": "stdout",
     "output_type": "stream",
     "text": [
      "housing:\n",
      "\n",
      "yes        21576\n",
      "no         18622\n",
      "unknown      990\n",
      "Name: housing, dtype: int64\n"
     ]
    },
    {
     "data": {
      "image/png": "[encoded data removed]",
      "text/plain": [
       "<Figure size 576x432 with 1 Axes>"
      ]
     },
     "metadata": {
      "needs_background": "light"
     },
     "output_type": "display_data"
    },
    {
     "name": "stdout",
     "output_type": "stream",
     "text": [
      "loan:\n",
      "\n",
      "no         33950\n",
      "yes         6248\n",
      "unknown      990\n",
      "Name: loan, dtype: int64\n"
     ]
    },
    {
     "data": {
      "image/png": "[encoded data removed]",
      "text/plain": [
       "<Figure size 576x432 with 1 Axes>"
      ]
     },
     "metadata": {
      "needs_background": "light"
     },
     "output_type": "display_data"
    },
    {
     "name": "stdout",
     "output_type": "stream",
     "text": [
      "contact:\n",
      "\n",
      "cellular     26144\n",
      "telephone    15044\n",
      "Name: contact, dtype: int64\n"
     ]
    },
    {
     "data": {
      "image/png": "[encoded data removed]",
      "text/plain": [
       "<Figure size 576x432 with 1 Axes>"
      ]
     },
     "metadata": {
      "needs_background": "light"
     },
     "output_type": "display_data"
    },
    {
     "name": "stdout",
     "output_type": "stream",
     "text": [
      "month:\n",
      "\n",
      "may    13769\n",
      "jul     7174\n",
      "aug     6178\n",
      "jun     5318\n",
      "nov     4101\n",
      "apr     2632\n",
      "oct      718\n",
      "sep      570\n",
      "mar      546\n",
      "dec      182\n",
      "Name: month, dtype: int64\n"
     ]
    },
    {
     "data": {
      "image/png": "[encoded data removed]",
      "text/plain": [
       "<Figure size 576x432 with 1 Axes>"
      ]
     },
     "metadata": {
      "needs_background": "light"
     },
     "output_type": "display_data"
    },
    {
     "name": "stdout",
     "output_type": "stream",
     "text": [
      "day_of_week:\n",
      "\n",
      "thu    8623\n",
      "mon    8514\n",
      "wed    8134\n",
      "tue    8090\n",
      "fri    7827\n",
      "Name: day_of_week, dtype: int64\n"
     ]
    },
    {
     "data": {
      "image/png": "[encoded data removed]",
      "text/plain": [
       "<Figure size 576x432 with 1 Axes>"
      ]
     },
     "metadata": {
      "needs_background": "light"
     },
     "output_type": "display_data"
    },
    {
     "name": "stdout",
     "output_type": "stream",
     "text": [
      "poutcome:\n",
      "\n",
      "nonexistent    35563\n",
      "failure         4252\n",
      "success         1373\n",
      "Name: poutcome, dtype: int64\n"
     ]
    },
    {
     "data": {
      "image/png": "[encoded data removed]",
      "text/plain": [
       "<Figure size 576x432 with 1 Axes>"
      ]
     },
     "metadata": {
      "needs_background": "light"
     },
     "output_type": "display_data"
    }
   ],
   "source": [
    "#Visualize unique values and countplots for each of the categorical variables\n",
    "for col in cat_features:\n",
    "    print(f'{col}:\\n')\n",
    "    print(cat_features[col].value_counts())\n",
    "    plt.figure(figsize=(8,6))\n",
    "    if col == 'month':\n",
    "        sns.countplot(x = col, data = cat_features, \n",
    "                      order = ['mar', 'apr', 'may', 'jun', 'jul', 'aug', 'sep', 'oct', 'nov', 'dec'])\n",
    "    else:\n",
    "        sns.countplot(x = col, data = cat_features)\n",
    "        if col == 'job' or col == 'education':\n",
    "            plt.xticks(rotation = 45)\n",
    "    plt.show()"
   ]
  },
  {
   "cell_type": "markdown",
   "metadata": {},
   "source": [
    "Let's take a look at histograms of our numerical columns to get a sense of the data.  We will then decide if we need to apply a scaler to these features."
   ]
  },
  {
   "cell_type": "code",
   "execution_count": 14,
   "metadata": {},
   "outputs": [
    {
     "data": {
      "image/png": "[encoded data removed]",
      "text/plain": [
       "<Figure size 864x864 with 9 Axes>"
      ]
     },
     "metadata": {
      "needs_background": "light"
     },
     "output_type": "display_data"
    }
   ],
   "source": [
    "#Plot histograms of numerical columns\n",
    "num_features.hist(figsize=(12,12))\n",
    "plt.show()"
   ]
  },
  {
   "cell_type": "markdown",
   "metadata": {},
   "source": [
    "Now we will look at a Correlation Matrix to check for multicollinearity among numerical features."
   ]
  },
  {
   "cell_type": "code",
   "execution_count": 15,
   "metadata": {},
   "outputs": [
    {
     "data": {
      "image/png": "[encoded data removed]",
      "text/plain": [
       "<Figure size 1080x936 with 2 Axes>"
      ]
     },
     "metadata": {
      "needs_background": "light"
     },
     "output_type": "display_data"
    }
   ],
   "source": [
    "corr = num_features.corr()\n",
    "plt.figure(figsize=(15,13))\n",
    "sns.heatmap(corr, fmt='.2g', cmap = 'Blues', annot = True, linewidth = 2, robust = True)\n",
    "plt.xticks(size = 12)\n",
    "plt.yticks(size = 12, rotation=45)\n",
    "plt.show()"
   ]
  },
  {
   "cell_type": "markdown",
   "metadata": {},
   "source": [
    "Next we will visualize a box plot to visualize the scale and outliers of our numerical features."
   ]
  },
  {
   "cell_type": "code",
   "execution_count": 16,
   "metadata": {},
   "outputs": [
    {
     "data": {
      "image/png": "[encoded data removed]",
      "text/plain": [
       "<Figure size 864x576 with 1 Axes>"
      ]
     },
     "metadata": {
      "needs_background": "light"
     },
     "output_type": "display_data"
    }
   ],
   "source": [
    "num_features.boxplot(figsize=(12,8))\n",
    "plt.xlabel('Numerical Features', size=12)\n",
    "plt.title('Numerical Features Box Plot')\n",
    "plt.show()"
   ]
  },
  {
   "cell_type": "markdown",
   "metadata": {},
   "source": [
    "The 'nr.employed' column is clearly on a completely different scale from the other features, so we will look at the box plots again without that feature."
   ]
  },
  {
   "cell_type": "code",
   "execution_count": 17,
   "metadata": {},
   "outputs": [
    {
     "data": {
      "image/png": "[encoded data removed]",
      "text/plain": [
       "<Figure size 864x576 with 1 Axes>"
      ]
     },
     "metadata": {
      "needs_background": "light"
     },
     "output_type": "display_data"
    }
   ],
   "source": [
    "num_features.drop(columns = \"nr.employed\").boxplot(figsize=(12,8))\n",
    "plt.xlabel('Numerical Features', size=12)\n",
    "plt.title('Numerical Features Box Plot')\n",
    "plt.show()"
   ]
  },
  {
   "cell_type": "markdown",
   "metadata": {},
   "source": [
    "Let's take a closer look at the pdays column:"
   ]
  },
  {
   "cell_type": "code",
   "execution_count": 18,
   "metadata": {},
   "outputs": [
    {
     "data": {
      "text/plain": [
       "count    41188.000000\n",
       "mean       962.475454\n",
       "std        186.910907\n",
       "min          0.000000\n",
       "25%        999.000000\n",
       "50%        999.000000\n",
       "75%        999.000000\n",
       "max        999.000000\n",
       "Name: pdays, dtype: float64"
      ]
     },
     "execution_count": 18,
     "metadata": {},
     "output_type": "execute_result"
    }
   ],
   "source": [
    "num_features.pdays.describe()"
   ]
  },
  {
   "cell_type": "code",
   "execution_count": 19,
   "metadata": {},
   "outputs": [
    {
     "data": {
      "text/plain": [
       "999    39673\n",
       "3        439\n",
       "6        412\n",
       "4        118\n",
       "9         64\n",
       "2         61\n",
       "7         60\n",
       "12        58\n",
       "10        52\n",
       "5         46\n",
       "Name: pdays, dtype: int64"
      ]
     },
     "execution_count": 19,
     "metadata": {},
     "output_type": "execute_result"
    }
   ],
   "source": [
    "num_features.pdays.value_counts()[:10]"
   ]
  },
  {
   "cell_type": "markdown",
   "metadata": {},
   "source": [
    "Fronm the data description above the 'pday' column assigns '999' when the client was not previously contacted, therefore the green line for the pdays columns.  We will take one more look at the box plots without that column as well just to get a sense of the scale of the rest of our features"
   ]
  },
  {
   "cell_type": "code",
   "execution_count": 20,
   "metadata": {},
   "outputs": [
    {
     "data": {
      "image/png": "[encoded data removed]",
      "text/plain": [
       "<Figure size 864x576 with 1 Axes>"
      ]
     },
     "metadata": {
      "needs_background": "light"
     },
     "output_type": "display_data"
    }
   ],
   "source": [
    "num_features.drop(columns = [\"nr.employed\", \"pdays\"]).boxplot(figsize=(12,8))\n",
    "plt.xlabel('Numerical Features', size=12)\n",
    "plt.title('Numerical Features Box Plot')\n",
    "plt.show()"
   ]
  },
  {
   "cell_type": "markdown",
   "metadata": {},
   "source": [
    "That gives us a much better look at the range and scale of the numerical features.  There is still a significant variance in scale of the numerical data (especially for the consumer confidence index and consumer price index) so we will want to scale our features to prepare them for machine learning modeling.\n"
   ]
  },
  {
   "cell_type": "markdown",
   "metadata": {},
   "source": [
    "### Preprocessing the Data"
   ]
  },
  {
   "cell_type": "markdown",
   "metadata": {},
   "source": [
    "Here we will one hot encode the categorical features to make the suitable for modeling."
   ]
  },
  {
   "cell_type": "code",
   "execution_count": 21,
   "metadata": {},
   "outputs": [
    {
     "data": {
      "text/html": [
       "<div>\n",
       "<style scoped>\n",
       "    .dataframe tbody tr th:only-of-type {\n",
       "        vertical-align: middle;\n",
       "    }\n",
       "\n",
       "    .dataframe tbody tr th {\n",
       "        vertical-align: top;\n",
       "    }\n",
       "\n",
       "    .dataframe thead th {\n",
       "        text-align: right;\n",
       "    }\n",
       "</style>\n",
       "<table border=\"1\" class=\"dataframe\">\n",
       "  <thead>\n",
       "    <tr style=\"text-align: right;\">\n",
       "      <th></th>\n",
       "      <th>job_blue-collar</th>\n",
       "      <th>job_entrepreneur</th>\n",
       "      <th>job_housemaid</th>\n",
       "      <th>job_management</th>\n",
       "      <th>job_retired</th>\n",
       "      <th>job_self-employed</th>\n",
       "      <th>job_services</th>\n",
       "      <th>job_student</th>\n",
       "      <th>job_technician</th>\n",
       "      <th>job_unemployed</th>\n",
       "      <th>...</th>\n",
       "      <th>month_may</th>\n",
       "      <th>month_nov</th>\n",
       "      <th>month_oct</th>\n",
       "      <th>month_sep</th>\n",
       "      <th>day_of_week_mon</th>\n",
       "      <th>day_of_week_thu</th>\n",
       "      <th>day_of_week_tue</th>\n",
       "      <th>day_of_week_wed</th>\n",
       "      <th>poutcome_nonexistent</th>\n",
       "      <th>poutcome_success</th>\n",
       "    </tr>\n",
       "  </thead>\n",
       "  <tbody>\n",
       "    <tr>\n",
       "      <th>0</th>\n",
       "      <td>0</td>\n",
       "      <td>0</td>\n",
       "      <td>1</td>\n",
       "      <td>0</td>\n",
       "      <td>0</td>\n",
       "      <td>0</td>\n",
       "      <td>0</td>\n",
       "      <td>0</td>\n",
       "      <td>0</td>\n",
       "      <td>0</td>\n",
       "      <td>...</td>\n",
       "      <td>1</td>\n",
       "      <td>0</td>\n",
       "      <td>0</td>\n",
       "      <td>0</td>\n",
       "      <td>1</td>\n",
       "      <td>0</td>\n",
       "      <td>0</td>\n",
       "      <td>0</td>\n",
       "      <td>1</td>\n",
       "      <td>0</td>\n",
       "    </tr>\n",
       "    <tr>\n",
       "      <th>1</th>\n",
       "      <td>0</td>\n",
       "      <td>0</td>\n",
       "      <td>0</td>\n",
       "      <td>0</td>\n",
       "      <td>0</td>\n",
       "      <td>0</td>\n",
       "      <td>1</td>\n",
       "      <td>0</td>\n",
       "      <td>0</td>\n",
       "      <td>0</td>\n",
       "      <td>...</td>\n",
       "      <td>1</td>\n",
       "      <td>0</td>\n",
       "      <td>0</td>\n",
       "      <td>0</td>\n",
       "      <td>1</td>\n",
       "      <td>0</td>\n",
       "      <td>0</td>\n",
       "      <td>0</td>\n",
       "      <td>1</td>\n",
       "      <td>0</td>\n",
       "    </tr>\n",
       "    <tr>\n",
       "      <th>2</th>\n",
       "      <td>0</td>\n",
       "      <td>0</td>\n",
       "      <td>0</td>\n",
       "      <td>0</td>\n",
       "      <td>0</td>\n",
       "      <td>0</td>\n",
       "      <td>1</td>\n",
       "      <td>0</td>\n",
       "      <td>0</td>\n",
       "      <td>0</td>\n",
       "      <td>...</td>\n",
       "      <td>1</td>\n",
       "      <td>0</td>\n",
       "      <td>0</td>\n",
       "      <td>0</td>\n",
       "      <td>1</td>\n",
       "      <td>0</td>\n",
       "      <td>0</td>\n",
       "      <td>0</td>\n",
       "      <td>1</td>\n",
       "      <td>0</td>\n",
       "    </tr>\n",
       "    <tr>\n",
       "      <th>3</th>\n",
       "      <td>0</td>\n",
       "      <td>0</td>\n",
       "      <td>0</td>\n",
       "      <td>0</td>\n",
       "      <td>0</td>\n",
       "      <td>0</td>\n",
       "      <td>0</td>\n",
       "      <td>0</td>\n",
       "      <td>0</td>\n",
       "      <td>0</td>\n",
       "      <td>...</td>\n",
       "      <td>1</td>\n",
       "      <td>0</td>\n",
       "      <td>0</td>\n",
       "      <td>0</td>\n",
       "      <td>1</td>\n",
       "      <td>0</td>\n",
       "      <td>0</td>\n",
       "      <td>0</td>\n",
       "      <td>1</td>\n",
       "      <td>0</td>\n",
       "    </tr>\n",
       "    <tr>\n",
       "      <th>4</th>\n",
       "      <td>0</td>\n",
       "      <td>0</td>\n",
       "      <td>0</td>\n",
       "      <td>0</td>\n",
       "      <td>0</td>\n",
       "      <td>0</td>\n",
       "      <td>1</td>\n",
       "      <td>0</td>\n",
       "      <td>0</td>\n",
       "      <td>0</td>\n",
       "      <td>...</td>\n",
       "      <td>1</td>\n",
       "      <td>0</td>\n",
       "      <td>0</td>\n",
       "      <td>0</td>\n",
       "      <td>1</td>\n",
       "      <td>0</td>\n",
       "      <td>0</td>\n",
       "      <td>0</td>\n",
       "      <td>1</td>\n",
       "      <td>0</td>\n",
       "    </tr>\n",
       "  </tbody>\n",
       "</table>\n",
       "<p>5 rows × 43 columns</p>\n",
       "</div>"
      ],
      "text/plain": [
       "   job_blue-collar  job_entrepreneur  job_housemaid  job_management  \\\n",
       "0                0                 0              1               0   \n",
       "1                0                 0              0               0   \n",
       "2                0                 0              0               0   \n",
       "3                0                 0              0               0   \n",
       "4                0                 0              0               0   \n",
       "\n",
       "   job_retired  job_self-employed  job_services  job_student  job_technician  \\\n",
       "0            0                  0             0            0               0   \n",
       "1            0                  0             1            0               0   \n",
       "2            0                  0             1            0               0   \n",
       "3            0                  0             0            0               0   \n",
       "4            0                  0             1            0               0   \n",
       "\n",
       "   job_unemployed        ...         month_may  month_nov  month_oct  \\\n",
       "0               0        ...                 1          0          0   \n",
       "1               0        ...                 1          0          0   \n",
       "2               0        ...                 1          0          0   \n",
       "3               0        ...                 1          0          0   \n",
       "4               0        ...                 1          0          0   \n",
       "\n",
       "   month_sep  day_of_week_mon  day_of_week_thu  day_of_week_tue  \\\n",
       "0          0                1                0                0   \n",
       "1          0                1                0                0   \n",
       "2          0                1                0                0   \n",
       "3          0                1                0                0   \n",
       "4          0                1                0                0   \n",
       "\n",
       "   day_of_week_wed  poutcome_nonexistent  poutcome_success  \n",
       "0                0                     1                 0  \n",
       "1                0                     1                 0  \n",
       "2                0                     1                 0  \n",
       "3                0                     1                 0  \n",
       "4                0                     1                 0  \n",
       "\n",
       "[5 rows x 43 columns]"
      ]
     },
     "execution_count": 21,
     "metadata": {},
     "output_type": "execute_result"
    }
   ],
   "source": [
    "dummified_features = pd.get_dummies(cat_features, drop_first=True)\n",
    "\n",
    "dummified_features.head()"
   ]
  },
  {
   "cell_type": "markdown",
   "metadata": {},
   "source": [
    "Next we will scale our numerical features using sklearn's Standard Scaler to ensure that features on different scales do not have an outsized effect on our models' results.  "
   ]
  },
  {
   "cell_type": "code",
   "execution_count": 22,
   "metadata": {},
   "outputs": [
    {
     "data": {
      "text/html": [
       "<div>\n",
       "<style scoped>\n",
       "    .dataframe tbody tr th:only-of-type {\n",
       "        vertical-align: middle;\n",
       "    }\n",
       "\n",
       "    .dataframe tbody tr th {\n",
       "        vertical-align: top;\n",
       "    }\n",
       "\n",
       "    .dataframe thead th {\n",
       "        text-align: right;\n",
       "    }\n",
       "</style>\n",
       "<table border=\"1\" class=\"dataframe\">\n",
       "  <thead>\n",
       "    <tr style=\"text-align: right;\">\n",
       "      <th></th>\n",
       "      <th>age</th>\n",
       "      <th>campaign</th>\n",
       "      <th>pdays</th>\n",
       "      <th>previous</th>\n",
       "      <th>emp.var.rate</th>\n",
       "      <th>cons.price.idx</th>\n",
       "      <th>cons.conf.idx</th>\n",
       "      <th>euribor3m</th>\n",
       "      <th>nr.employed</th>\n",
       "    </tr>\n",
       "  </thead>\n",
       "  <tbody>\n",
       "    <tr>\n",
       "      <th>0</th>\n",
       "      <td>1.533034</td>\n",
       "      <td>-0.565922</td>\n",
       "      <td>0.195414</td>\n",
       "      <td>-0.349494</td>\n",
       "      <td>0.648092</td>\n",
       "      <td>0.722722</td>\n",
       "      <td>0.886447</td>\n",
       "      <td>0.71246</td>\n",
       "      <td>0.33168</td>\n",
       "    </tr>\n",
       "    <tr>\n",
       "      <th>1</th>\n",
       "      <td>1.628993</td>\n",
       "      <td>-0.565922</td>\n",
       "      <td>0.195414</td>\n",
       "      <td>-0.349494</td>\n",
       "      <td>0.648092</td>\n",
       "      <td>0.722722</td>\n",
       "      <td>0.886447</td>\n",
       "      <td>0.71246</td>\n",
       "      <td>0.33168</td>\n",
       "    </tr>\n",
       "    <tr>\n",
       "      <th>2</th>\n",
       "      <td>-0.290186</td>\n",
       "      <td>-0.565922</td>\n",
       "      <td>0.195414</td>\n",
       "      <td>-0.349494</td>\n",
       "      <td>0.648092</td>\n",
       "      <td>0.722722</td>\n",
       "      <td>0.886447</td>\n",
       "      <td>0.71246</td>\n",
       "      <td>0.33168</td>\n",
       "    </tr>\n",
       "    <tr>\n",
       "      <th>3</th>\n",
       "      <td>-0.002309</td>\n",
       "      <td>-0.565922</td>\n",
       "      <td>0.195414</td>\n",
       "      <td>-0.349494</td>\n",
       "      <td>0.648092</td>\n",
       "      <td>0.722722</td>\n",
       "      <td>0.886447</td>\n",
       "      <td>0.71246</td>\n",
       "      <td>0.33168</td>\n",
       "    </tr>\n",
       "    <tr>\n",
       "      <th>4</th>\n",
       "      <td>1.533034</td>\n",
       "      <td>-0.565922</td>\n",
       "      <td>0.195414</td>\n",
       "      <td>-0.349494</td>\n",
       "      <td>0.648092</td>\n",
       "      <td>0.722722</td>\n",
       "      <td>0.886447</td>\n",
       "      <td>0.71246</td>\n",
       "      <td>0.33168</td>\n",
       "    </tr>\n",
       "  </tbody>\n",
       "</table>\n",
       "</div>"
      ],
      "text/plain": [
       "        age  campaign     pdays  previous  emp.var.rate  cons.price.idx  \\\n",
       "0  1.533034 -0.565922  0.195414 -0.349494      0.648092        0.722722   \n",
       "1  1.628993 -0.565922  0.195414 -0.349494      0.648092        0.722722   \n",
       "2 -0.290186 -0.565922  0.195414 -0.349494      0.648092        0.722722   \n",
       "3 -0.002309 -0.565922  0.195414 -0.349494      0.648092        0.722722   \n",
       "4  1.533034 -0.565922  0.195414 -0.349494      0.648092        0.722722   \n",
       "\n",
       "   cons.conf.idx  euribor3m  nr.employed  \n",
       "0       0.886447    0.71246      0.33168  \n",
       "1       0.886447    0.71246      0.33168  \n",
       "2       0.886447    0.71246      0.33168  \n",
       "3       0.886447    0.71246      0.33168  \n",
       "4       0.886447    0.71246      0.33168  "
      ]
     },
     "execution_count": 22,
     "metadata": {},
     "output_type": "execute_result"
    }
   ],
   "source": [
    "scaler = StandardScaler()\n",
    "scaled_feats = scaler.fit_transform(num_features)\n",
    "\n",
    "scaled_feats = pd.DataFrame(scaled_feats, columns = num_features.columns)\n",
    "scaled_feats.head()\n"
   ]
  },
  {
   "cell_type": "code",
   "execution_count": 23,
   "metadata": {},
   "outputs": [
    {
     "data": {
      "text/html": [
       "<div>\n",
       "<style scoped>\n",
       "    .dataframe tbody tr th:only-of-type {\n",
       "        vertical-align: middle;\n",
       "    }\n",
       "\n",
       "    .dataframe tbody tr th {\n",
       "        vertical-align: top;\n",
       "    }\n",
       "\n",
       "    .dataframe thead th {\n",
       "        text-align: right;\n",
       "    }\n",
       "</style>\n",
       "<table border=\"1\" class=\"dataframe\">\n",
       "  <thead>\n",
       "    <tr style=\"text-align: right;\">\n",
       "      <th></th>\n",
       "      <th>age</th>\n",
       "      <th>campaign</th>\n",
       "      <th>pdays</th>\n",
       "      <th>previous</th>\n",
       "      <th>emp.var.rate</th>\n",
       "      <th>cons.price.idx</th>\n",
       "      <th>cons.conf.idx</th>\n",
       "      <th>euribor3m</th>\n",
       "      <th>nr.employed</th>\n",
       "    </tr>\n",
       "  </thead>\n",
       "  <tbody>\n",
       "    <tr>\n",
       "      <th>count</th>\n",
       "      <td>4.118800e+04</td>\n",
       "      <td>4.118800e+04</td>\n",
       "      <td>4.118800e+04</td>\n",
       "      <td>4.118800e+04</td>\n",
       "      <td>4.118800e+04</td>\n",
       "      <td>4.118800e+04</td>\n",
       "      <td>4.118800e+04</td>\n",
       "      <td>41188.000000</td>\n",
       "      <td>4.118800e+04</td>\n",
       "    </tr>\n",
       "    <tr>\n",
       "      <th>mean</th>\n",
       "      <td>-1.880382e-16</td>\n",
       "      <td>-7.590531e-17</td>\n",
       "      <td>-2.580781e-16</td>\n",
       "      <td>5.520386e-18</td>\n",
       "      <td>7.797546e-17</td>\n",
       "      <td>8.667007e-15</td>\n",
       "      <td>-1.352495e-16</td>\n",
       "      <td>0.000000</td>\n",
       "      <td>-1.024860e-14</td>\n",
       "    </tr>\n",
       "    <tr>\n",
       "      <th>std</th>\n",
       "      <td>1.000012e+00</td>\n",
       "      <td>1.000012e+00</td>\n",
       "      <td>1.000012e+00</td>\n",
       "      <td>1.000012e+00</td>\n",
       "      <td>1.000012e+00</td>\n",
       "      <td>1.000012e+00</td>\n",
       "      <td>1.000012e+00</td>\n",
       "      <td>1.000012</td>\n",
       "      <td>1.000012e+00</td>\n",
       "    </tr>\n",
       "    <tr>\n",
       "      <th>min</th>\n",
       "      <td>-2.209365e+00</td>\n",
       "      <td>-5.659220e-01</td>\n",
       "      <td>-5.149443e+00</td>\n",
       "      <td>-3.494943e-01</td>\n",
       "      <td>-2.216433e+00</td>\n",
       "      <td>-2.374889e+00</td>\n",
       "      <td>-2.224953e+00</td>\n",
       "      <td>-1.722351</td>\n",
       "      <td>-2.815697e+00</td>\n",
       "    </tr>\n",
       "    <tr>\n",
       "      <th>25%</th>\n",
       "      <td>-7.699804e-01</td>\n",
       "      <td>-5.659220e-01</td>\n",
       "      <td>1.954139e-01</td>\n",
       "      <td>-3.494943e-01</td>\n",
       "      <td>-1.197935e+00</td>\n",
       "      <td>-8.649547e-01</td>\n",
       "      <td>-4.747909e-01</td>\n",
       "      <td>-1.312994</td>\n",
       "      <td>-9.402810e-01</td>\n",
       "    </tr>\n",
       "    <tr>\n",
       "      <th>50%</th>\n",
       "      <td>-1.942267e-01</td>\n",
       "      <td>-2.049085e-01</td>\n",
       "      <td>1.954139e-01</td>\n",
       "      <td>-3.494943e-01</td>\n",
       "      <td>6.480923e-01</td>\n",
       "      <td>2.994571e-01</td>\n",
       "      <td>-2.803284e-01</td>\n",
       "      <td>0.712460</td>\n",
       "      <td>3.316799e-01</td>\n",
       "    </tr>\n",
       "    <tr>\n",
       "      <th>75%</th>\n",
       "      <td>6.694038e-01</td>\n",
       "      <td>1.561049e-01</td>\n",
       "      <td>1.954139e-01</td>\n",
       "      <td>-3.494943e-01</td>\n",
       "      <td>8.390606e-01</td>\n",
       "      <td>7.227225e-01</td>\n",
       "      <td>8.864466e-01</td>\n",
       "      <td>0.772422</td>\n",
       "      <td>8.451701e-01</td>\n",
       "    </tr>\n",
       "    <tr>\n",
       "      <th>max</th>\n",
       "      <td>5.563310e+00</td>\n",
       "      <td>1.928982e+01</td>\n",
       "      <td>1.954139e-01</td>\n",
       "      <td>1.379492e+01</td>\n",
       "      <td>8.390606e-01</td>\n",
       "      <td>2.058168e+00</td>\n",
       "      <td>2.939106e+00</td>\n",
       "      <td>0.820853</td>\n",
       "      <td>8.451701e-01</td>\n",
       "    </tr>\n",
       "  </tbody>\n",
       "</table>\n",
       "</div>"
      ],
      "text/plain": [
       "                age      campaign         pdays      previous  emp.var.rate  \\\n",
       "count  4.118800e+04  4.118800e+04  4.118800e+04  4.118800e+04  4.118800e+04   \n",
       "mean  -1.880382e-16 -7.590531e-17 -2.580781e-16  5.520386e-18  7.797546e-17   \n",
       "std    1.000012e+00  1.000012e+00  1.000012e+00  1.000012e+00  1.000012e+00   \n",
       "min   -2.209365e+00 -5.659220e-01 -5.149443e+00 -3.494943e-01 -2.216433e+00   \n",
       "25%   -7.699804e-01 -5.659220e-01  1.954139e-01 -3.494943e-01 -1.197935e+00   \n",
       "50%   -1.942267e-01 -2.049085e-01  1.954139e-01 -3.494943e-01  6.480923e-01   \n",
       "75%    6.694038e-01  1.561049e-01  1.954139e-01 -3.494943e-01  8.390606e-01   \n",
       "max    5.563310e+00  1.928982e+01  1.954139e-01  1.379492e+01  8.390606e-01   \n",
       "\n",
       "       cons.price.idx  cons.conf.idx     euribor3m   nr.employed  \n",
       "count    4.118800e+04   4.118800e+04  41188.000000  4.118800e+04  \n",
       "mean     8.667007e-15  -1.352495e-16      0.000000 -1.024860e-14  \n",
       "std      1.000012e+00   1.000012e+00      1.000012  1.000012e+00  \n",
       "min     -2.374889e+00  -2.224953e+00     -1.722351 -2.815697e+00  \n",
       "25%     -8.649547e-01  -4.747909e-01     -1.312994 -9.402810e-01  \n",
       "50%      2.994571e-01  -2.803284e-01      0.712460  3.316799e-01  \n",
       "75%      7.227225e-01   8.864466e-01      0.772422  8.451701e-01  \n",
       "max      2.058168e+00   2.939106e+00      0.820853  8.451701e-01  "
      ]
     },
     "execution_count": 23,
     "metadata": {},
     "output_type": "execute_result"
    }
   ],
   "source": [
    "scaled_feats.describe()"
   ]
  },
  {
   "cell_type": "markdown",
   "metadata": {},
   "source": [
    "As we see above, each of our features has been scaled to a mean of 0 and standard deviation of 1."
   ]
  },
  {
   "cell_type": "markdown",
   "metadata": {},
   "source": [
    "We will take another look at the histograms and box plots after scaling our features."
   ]
  },
  {
   "cell_type": "code",
   "execution_count": 24,
   "metadata": {},
   "outputs": [
    {
     "data": {
      "image/png": "[encoded data removed]",
      "text/plain": [
       "<Figure size 576x576 with 9 Axes>"
      ]
     },
     "metadata": {
      "needs_background": "light"
     },
     "output_type": "display_data"
    }
   ],
   "source": [
    "#Plot histograms of numerical columns\n",
    "scaled_feats.hist(figsize=(8,8))\n",
    "plt.show()"
   ]
  },
  {
   "cell_type": "code",
   "execution_count": 25,
   "metadata": {},
   "outputs": [
    {
     "data": {
      "image/png": "[encoded data removed]",
      "text/plain": [
       "<Figure size 864x576 with 1 Axes>"
      ]
     },
     "metadata": {
      "needs_background": "light"
     },
     "output_type": "display_data"
    }
   ],
   "source": [
    "scaled_feats.boxplot(figsize=(12,8))\n",
    "plt.xlabel('Scaled Features', size=12)\n",
    "plt.title('Scaled Features Box Plot')\n",
    "plt.show()"
   ]
  },
  {
   "cell_type": "markdown",
   "metadata": {},
   "source": [
    "With our features encoded and scaled we are nearly ready to being modeling the data. We will rejoin the categorical and numerical features with our target variable into a single dataframe."
   ]
  },
  {
   "cell_type": "code",
   "execution_count": 26,
   "metadata": {},
   "outputs": [
    {
     "data": {
      "text/plain": [
       "(41188, 53)"
      ]
     },
     "execution_count": 26,
     "metadata": {},
     "output_type": "execute_result"
    }
   ],
   "source": [
    "target = df.deposit\n",
    "bank_data = pd.concat([dummified_features, scaled_feats, target], axis=1)\n",
    "bank_data.shape"
   ]
  },
  {
   "cell_type": "code",
   "execution_count": 27,
   "metadata": {},
   "outputs": [
    {
     "data": {
      "text/html": [
       "<div>\n",
       "<style scoped>\n",
       "    .dataframe tbody tr th:only-of-type {\n",
       "        vertical-align: middle;\n",
       "    }\n",
       "\n",
       "    .dataframe tbody tr th {\n",
       "        vertical-align: top;\n",
       "    }\n",
       "\n",
       "    .dataframe thead th {\n",
       "        text-align: right;\n",
       "    }\n",
       "</style>\n",
       "<table border=\"1\" class=\"dataframe\">\n",
       "  <thead>\n",
       "    <tr style=\"text-align: right;\">\n",
       "      <th></th>\n",
       "      <th>job_blue-collar</th>\n",
       "      <th>job_entrepreneur</th>\n",
       "      <th>job_housemaid</th>\n",
       "      <th>job_management</th>\n",
       "      <th>job_retired</th>\n",
       "      <th>job_self-employed</th>\n",
       "      <th>job_services</th>\n",
       "      <th>job_student</th>\n",
       "      <th>job_technician</th>\n",
       "      <th>job_unemployed</th>\n",
       "      <th>...</th>\n",
       "      <th>age</th>\n",
       "      <th>campaign</th>\n",
       "      <th>pdays</th>\n",
       "      <th>previous</th>\n",
       "      <th>emp.var.rate</th>\n",
       "      <th>cons.price.idx</th>\n",
       "      <th>cons.conf.idx</th>\n",
       "      <th>euribor3m</th>\n",
       "      <th>nr.employed</th>\n",
       "      <th>deposit</th>\n",
       "    </tr>\n",
       "  </thead>\n",
       "  <tbody>\n",
       "    <tr>\n",
       "      <th>41183</th>\n",
       "      <td>0</td>\n",
       "      <td>0</td>\n",
       "      <td>0</td>\n",
       "      <td>0</td>\n",
       "      <td>1</td>\n",
       "      <td>0</td>\n",
       "      <td>0</td>\n",
       "      <td>0</td>\n",
       "      <td>0</td>\n",
       "      <td>0</td>\n",
       "      <td>...</td>\n",
       "      <td>3.164336</td>\n",
       "      <td>-0.565922</td>\n",
       "      <td>0.195414</td>\n",
       "      <td>-0.349494</td>\n",
       "      <td>-0.752343</td>\n",
       "      <td>2.058168</td>\n",
       "      <td>-2.224953</td>\n",
       "      <td>-1.495186</td>\n",
       "      <td>-2.815697</td>\n",
       "      <td>yes</td>\n",
       "    </tr>\n",
       "    <tr>\n",
       "      <th>41184</th>\n",
       "      <td>1</td>\n",
       "      <td>0</td>\n",
       "      <td>0</td>\n",
       "      <td>0</td>\n",
       "      <td>0</td>\n",
       "      <td>0</td>\n",
       "      <td>0</td>\n",
       "      <td>0</td>\n",
       "      <td>0</td>\n",
       "      <td>0</td>\n",
       "      <td>...</td>\n",
       "      <td>0.573445</td>\n",
       "      <td>-0.565922</td>\n",
       "      <td>0.195414</td>\n",
       "      <td>-0.349494</td>\n",
       "      <td>-0.752343</td>\n",
       "      <td>2.058168</td>\n",
       "      <td>-2.224953</td>\n",
       "      <td>-1.495186</td>\n",
       "      <td>-2.815697</td>\n",
       "      <td>no</td>\n",
       "    </tr>\n",
       "    <tr>\n",
       "      <th>41185</th>\n",
       "      <td>0</td>\n",
       "      <td>0</td>\n",
       "      <td>0</td>\n",
       "      <td>0</td>\n",
       "      <td>1</td>\n",
       "      <td>0</td>\n",
       "      <td>0</td>\n",
       "      <td>0</td>\n",
       "      <td>0</td>\n",
       "      <td>0</td>\n",
       "      <td>...</td>\n",
       "      <td>1.533034</td>\n",
       "      <td>-0.204909</td>\n",
       "      <td>0.195414</td>\n",
       "      <td>-0.349494</td>\n",
       "      <td>-0.752343</td>\n",
       "      <td>2.058168</td>\n",
       "      <td>-2.224953</td>\n",
       "      <td>-1.495186</td>\n",
       "      <td>-2.815697</td>\n",
       "      <td>no</td>\n",
       "    </tr>\n",
       "    <tr>\n",
       "      <th>41186</th>\n",
       "      <td>0</td>\n",
       "      <td>0</td>\n",
       "      <td>0</td>\n",
       "      <td>0</td>\n",
       "      <td>0</td>\n",
       "      <td>0</td>\n",
       "      <td>0</td>\n",
       "      <td>0</td>\n",
       "      <td>1</td>\n",
       "      <td>0</td>\n",
       "      <td>...</td>\n",
       "      <td>0.381527</td>\n",
       "      <td>-0.565922</td>\n",
       "      <td>0.195414</td>\n",
       "      <td>-0.349494</td>\n",
       "      <td>-0.752343</td>\n",
       "      <td>2.058168</td>\n",
       "      <td>-2.224953</td>\n",
       "      <td>-1.495186</td>\n",
       "      <td>-2.815697</td>\n",
       "      <td>yes</td>\n",
       "    </tr>\n",
       "    <tr>\n",
       "      <th>41187</th>\n",
       "      <td>0</td>\n",
       "      <td>0</td>\n",
       "      <td>0</td>\n",
       "      <td>0</td>\n",
       "      <td>1</td>\n",
       "      <td>0</td>\n",
       "      <td>0</td>\n",
       "      <td>0</td>\n",
       "      <td>0</td>\n",
       "      <td>0</td>\n",
       "      <td>...</td>\n",
       "      <td>3.260295</td>\n",
       "      <td>0.156105</td>\n",
       "      <td>0.195414</td>\n",
       "      <td>1.671136</td>\n",
       "      <td>-0.752343</td>\n",
       "      <td>2.058168</td>\n",
       "      <td>-2.224953</td>\n",
       "      <td>-1.495186</td>\n",
       "      <td>-2.815697</td>\n",
       "      <td>no</td>\n",
       "    </tr>\n",
       "  </tbody>\n",
       "</table>\n",
       "<p>5 rows × 53 columns</p>\n",
       "</div>"
      ],
      "text/plain": [
       "       job_blue-collar  job_entrepreneur  job_housemaid  job_management  \\\n",
       "41183                0                 0              0               0   \n",
       "41184                1                 0              0               0   \n",
       "41185                0                 0              0               0   \n",
       "41186                0                 0              0               0   \n",
       "41187                0                 0              0               0   \n",
       "\n",
       "       job_retired  job_self-employed  job_services  job_student  \\\n",
       "41183            1                  0             0            0   \n",
       "41184            0                  0             0            0   \n",
       "41185            1                  0             0            0   \n",
       "41186            0                  0             0            0   \n",
       "41187            1                  0             0            0   \n",
       "\n",
       "       job_technician  job_unemployed   ...          age  campaign     pdays  \\\n",
       "41183               0               0   ...     3.164336 -0.565922  0.195414   \n",
       "41184               0               0   ...     0.573445 -0.565922  0.195414   \n",
       "41185               0               0   ...     1.533034 -0.204909  0.195414   \n",
       "41186               1               0   ...     0.381527 -0.565922  0.195414   \n",
       "41187               0               0   ...     3.260295  0.156105  0.195414   \n",
       "\n",
       "       previous  emp.var.rate  cons.price.idx  cons.conf.idx  euribor3m  \\\n",
       "41183 -0.349494     -0.752343        2.058168      -2.224953  -1.495186   \n",
       "41184 -0.349494     -0.752343        2.058168      -2.224953  -1.495186   \n",
       "41185 -0.349494     -0.752343        2.058168      -2.224953  -1.495186   \n",
       "41186 -0.349494     -0.752343        2.058168      -2.224953  -1.495186   \n",
       "41187  1.671136     -0.752343        2.058168      -2.224953  -1.495186   \n",
       "\n",
       "       nr.employed  deposit  \n",
       "41183    -2.815697      yes  \n",
       "41184    -2.815697       no  \n",
       "41185    -2.815697       no  \n",
       "41186    -2.815697      yes  \n",
       "41187    -2.815697       no  \n",
       "\n",
       "[5 rows x 53 columns]"
      ]
     },
     "execution_count": 27,
     "metadata": {},
     "output_type": "execute_result"
    }
   ],
   "source": [
    "#Look at last 5 rows of our data\n",
    "bank_data.tail()"
   ]
  },
  {
   "cell_type": "code",
   "execution_count": 28,
   "metadata": {},
   "outputs": [
    {
     "data": {
      "text/html": [
       "<div>\n",
       "<style scoped>\n",
       "    .dataframe tbody tr th:only-of-type {\n",
       "        vertical-align: middle;\n",
       "    }\n",
       "\n",
       "    .dataframe tbody tr th {\n",
       "        vertical-align: top;\n",
       "    }\n",
       "\n",
       "    .dataframe thead th {\n",
       "        text-align: right;\n",
       "    }\n",
       "</style>\n",
       "<table border=\"1\" class=\"dataframe\">\n",
       "  <thead>\n",
       "    <tr style=\"text-align: right;\">\n",
       "      <th></th>\n",
       "      <th>job_blue-collar</th>\n",
       "      <th>job_entrepreneur</th>\n",
       "      <th>job_housemaid</th>\n",
       "      <th>job_management</th>\n",
       "      <th>job_retired</th>\n",
       "      <th>job_self-employed</th>\n",
       "      <th>job_services</th>\n",
       "      <th>job_student</th>\n",
       "      <th>job_technician</th>\n",
       "      <th>job_unemployed</th>\n",
       "      <th>...</th>\n",
       "      <th>age</th>\n",
       "      <th>campaign</th>\n",
       "      <th>pdays</th>\n",
       "      <th>previous</th>\n",
       "      <th>emp.var.rate</th>\n",
       "      <th>cons.price.idx</th>\n",
       "      <th>cons.conf.idx</th>\n",
       "      <th>euribor3m</th>\n",
       "      <th>nr.employed</th>\n",
       "      <th>deposit</th>\n",
       "    </tr>\n",
       "  </thead>\n",
       "  <tbody>\n",
       "    <tr>\n",
       "      <th>0</th>\n",
       "      <td>0</td>\n",
       "      <td>0</td>\n",
       "      <td>1</td>\n",
       "      <td>0</td>\n",
       "      <td>0</td>\n",
       "      <td>0</td>\n",
       "      <td>0</td>\n",
       "      <td>0</td>\n",
       "      <td>0</td>\n",
       "      <td>0</td>\n",
       "      <td>...</td>\n",
       "      <td>1.533034</td>\n",
       "      <td>-0.565922</td>\n",
       "      <td>0.195414</td>\n",
       "      <td>-0.349494</td>\n",
       "      <td>0.648092</td>\n",
       "      <td>0.722722</td>\n",
       "      <td>0.886447</td>\n",
       "      <td>0.71246</td>\n",
       "      <td>0.33168</td>\n",
       "      <td>no</td>\n",
       "    </tr>\n",
       "    <tr>\n",
       "      <th>1</th>\n",
       "      <td>0</td>\n",
       "      <td>0</td>\n",
       "      <td>0</td>\n",
       "      <td>0</td>\n",
       "      <td>0</td>\n",
       "      <td>0</td>\n",
       "      <td>1</td>\n",
       "      <td>0</td>\n",
       "      <td>0</td>\n",
       "      <td>0</td>\n",
       "      <td>...</td>\n",
       "      <td>1.628993</td>\n",
       "      <td>-0.565922</td>\n",
       "      <td>0.195414</td>\n",
       "      <td>-0.349494</td>\n",
       "      <td>0.648092</td>\n",
       "      <td>0.722722</td>\n",
       "      <td>0.886447</td>\n",
       "      <td>0.71246</td>\n",
       "      <td>0.33168</td>\n",
       "      <td>no</td>\n",
       "    </tr>\n",
       "    <tr>\n",
       "      <th>2</th>\n",
       "      <td>0</td>\n",
       "      <td>0</td>\n",
       "      <td>0</td>\n",
       "      <td>0</td>\n",
       "      <td>0</td>\n",
       "      <td>0</td>\n",
       "      <td>1</td>\n",
       "      <td>0</td>\n",
       "      <td>0</td>\n",
       "      <td>0</td>\n",
       "      <td>...</td>\n",
       "      <td>-0.290186</td>\n",
       "      <td>-0.565922</td>\n",
       "      <td>0.195414</td>\n",
       "      <td>-0.349494</td>\n",
       "      <td>0.648092</td>\n",
       "      <td>0.722722</td>\n",
       "      <td>0.886447</td>\n",
       "      <td>0.71246</td>\n",
       "      <td>0.33168</td>\n",
       "      <td>no</td>\n",
       "    </tr>\n",
       "    <tr>\n",
       "      <th>3</th>\n",
       "      <td>0</td>\n",
       "      <td>0</td>\n",
       "      <td>0</td>\n",
       "      <td>0</td>\n",
       "      <td>0</td>\n",
       "      <td>0</td>\n",
       "      <td>0</td>\n",
       "      <td>0</td>\n",
       "      <td>0</td>\n",
       "      <td>0</td>\n",
       "      <td>...</td>\n",
       "      <td>-0.002309</td>\n",
       "      <td>-0.565922</td>\n",
       "      <td>0.195414</td>\n",
       "      <td>-0.349494</td>\n",
       "      <td>0.648092</td>\n",
       "      <td>0.722722</td>\n",
       "      <td>0.886447</td>\n",
       "      <td>0.71246</td>\n",
       "      <td>0.33168</td>\n",
       "      <td>no</td>\n",
       "    </tr>\n",
       "    <tr>\n",
       "      <th>4</th>\n",
       "      <td>0</td>\n",
       "      <td>0</td>\n",
       "      <td>0</td>\n",
       "      <td>0</td>\n",
       "      <td>0</td>\n",
       "      <td>0</td>\n",
       "      <td>1</td>\n",
       "      <td>0</td>\n",
       "      <td>0</td>\n",
       "      <td>0</td>\n",
       "      <td>...</td>\n",
       "      <td>1.533034</td>\n",
       "      <td>-0.565922</td>\n",
       "      <td>0.195414</td>\n",
       "      <td>-0.349494</td>\n",
       "      <td>0.648092</td>\n",
       "      <td>0.722722</td>\n",
       "      <td>0.886447</td>\n",
       "      <td>0.71246</td>\n",
       "      <td>0.33168</td>\n",
       "      <td>no</td>\n",
       "    </tr>\n",
       "  </tbody>\n",
       "</table>\n",
       "<p>5 rows × 53 columns</p>\n",
       "</div>"
      ],
      "text/plain": [
       "   job_blue-collar  job_entrepreneur  job_housemaid  job_management  \\\n",
       "0                0                 0              1               0   \n",
       "1                0                 0              0               0   \n",
       "2                0                 0              0               0   \n",
       "3                0                 0              0               0   \n",
       "4                0                 0              0               0   \n",
       "\n",
       "   job_retired  job_self-employed  job_services  job_student  job_technician  \\\n",
       "0            0                  0             0            0               0   \n",
       "1            0                  0             1            0               0   \n",
       "2            0                  0             1            0               0   \n",
       "3            0                  0             0            0               0   \n",
       "4            0                  0             1            0               0   \n",
       "\n",
       "   job_unemployed   ...          age  campaign     pdays  previous  \\\n",
       "0               0   ...     1.533034 -0.565922  0.195414 -0.349494   \n",
       "1               0   ...     1.628993 -0.565922  0.195414 -0.349494   \n",
       "2               0   ...    -0.290186 -0.565922  0.195414 -0.349494   \n",
       "3               0   ...    -0.002309 -0.565922  0.195414 -0.349494   \n",
       "4               0   ...     1.533034 -0.565922  0.195414 -0.349494   \n",
       "\n",
       "   emp.var.rate  cons.price.idx  cons.conf.idx  euribor3m  nr.employed  \\\n",
       "0      0.648092        0.722722       0.886447    0.71246      0.33168   \n",
       "1      0.648092        0.722722       0.886447    0.71246      0.33168   \n",
       "2      0.648092        0.722722       0.886447    0.71246      0.33168   \n",
       "3      0.648092        0.722722       0.886447    0.71246      0.33168   \n",
       "4      0.648092        0.722722       0.886447    0.71246      0.33168   \n",
       "\n",
       "   deposit  \n",
       "0       no  \n",
       "1       no  \n",
       "2       no  \n",
       "3       no  \n",
       "4       no  \n",
       "\n",
       "[5 rows x 53 columns]"
      ]
     },
     "execution_count": 28,
     "metadata": {},
     "output_type": "execute_result"
    }
   ],
   "source": [
    "bank_data.head()"
   ]
  },
  {
   "cell_type": "markdown",
   "metadata": {},
   "source": [
    "Finally we will split our data into our feature and target columns, convert the target column into integer type (1 for 'yes' subscribed and 2 for 'no')  and check the shape."
   ]
  },
  {
   "cell_type": "code",
   "execution_count": 29,
   "metadata": {},
   "outputs": [
    {
     "data": {
      "text/plain": [
       "((41188, 52), (41188,))"
      ]
     },
     "execution_count": 29,
     "metadata": {},
     "output_type": "execute_result"
    }
   ],
   "source": [
    "feats = bank_data.drop('deposit', axis=1)\n",
    "target = bank_data.deposit.map(({'yes' : 1, 'no': 0}))\n",
    "feats.shape, target.shape"
   ]
  },
  {
   "cell_type": "markdown",
   "metadata": {},
   "source": [
    "## Modeling the Data"
   ]
  },
  {
   "cell_type": "markdown",
   "metadata": {},
   "source": [
    "#### First we will split our data into training and testing sets.  We will use a 75/25 split for all models."
   ]
  },
  {
   "cell_type": "code",
   "execution_count": 30,
   "metadata": {},
   "outputs": [
    {
     "data": {
      "text/plain": [
       "((30891, 52), (10297, 52), (30891,), (10297,))"
      ]
     },
     "execution_count": 30,
     "metadata": {},
     "output_type": "execute_result"
    }
   ],
   "source": [
    "#perform train test split\n",
    "X_train, X_test, y_train, y_test = train_test_split(feats, target, test_size = 0.25, random_state = random_state)\n",
    "#check shape of our splits\n",
    "X_train.shape, X_test.shape, y_train.shape, y_test.shape"
   ]
  },
  {
   "cell_type": "markdown",
   "metadata": {},
   "source": [
    "### Baseline Logistic Regression Model (logreg)"
   ]
  },
  {
   "cell_type": "code",
   "execution_count": 31,
   "metadata": {},
   "outputs": [
    {
     "data": {
      "text/plain": [
       "LogisticRegression(C=1.0, class_weight=None, dual=False, fit_intercept=True,\n",
       "                   intercept_scaling=1, l1_ratio=None, max_iter=100,\n",
       "                   multi_class='auto', n_jobs=None, penalty='l2',\n",
       "                   random_state=42, solver='lbfgs', tol=0.0001, verbose=0,\n",
       "                   warm_start=False)"
      ]
     },
     "execution_count": 31,
     "metadata": {},
     "output_type": "execute_result"
    }
   ],
   "source": [
    "#Instantiate and fit a baseline logistic regression model\n",
    "logreg = LogisticRegression(random_state=random_state)\n",
    "logreg.fit(X_train, y_train)"
   ]
  },
  {
   "cell_type": "code",
   "execution_count": 32,
   "metadata": {},
   "outputs": [
    {
     "name": "stdout",
     "output_type": "stream",
     "text": [
      "Baseline Logistic Regression Model\n",
      "------------------------------------------------------------\n",
      "Test Accuracy Score: 0.9001\n",
      "------------------------------------------------------------\n",
      "Test Precision Score: 0.6574\n",
      "------------------------------------------------------------\n",
      "Test Recall Score: 0.2246\n",
      "------------------------------------------------------------\n",
      "Test F1 Score: 0.3348\n",
      "------------------------------------------------------------\n",
      "              precision    recall  f1-score   support\n",
      "\n",
      "           0       0.91      0.99      0.95      9144\n",
      "           1       0.66      0.22      0.33      1153\n",
      "\n",
      "    accuracy                           0.90     10297\n",
      "   macro avg       0.78      0.60      0.64     10297\n",
      "weighted avg       0.88      0.90      0.88     10297\n",
      "\n"
     ]
    }
   ],
   "source": [
    "#make predictions and run metrics on X_test set\n",
    "logreg_preds = logreg.predict(X_test)\n",
    "logreg_acc = round(accuracy_score(y_test, logreg_preds),4)\n",
    "logreg_precision = round(precision_score(y_test, logreg_preds), 4)\n",
    "logreg_recall = round(recall_score(y_test, logreg_preds), 4)\n",
    "logreg_f1 = round(f1_score(y_test, logreg_preds), 4)\n",
    "print('Baseline Logistic Regression Model')\n",
    "print('-' * 60)\n",
    "print(f'Test Accuracy Score: {logreg_acc}')\n",
    "print('-' * 60)\n",
    "print(f'Test Precision Score: {logreg_precision}')\n",
    "print('-' * 60)\n",
    "print(f'Test Recall Score: {logreg_recall}')\n",
    "print('-' * 60)\n",
    "print(f'Test F1 Score: {logreg_f1}')\n",
    "print('-' * 60)\n",
    "print(classification_report(y_test, logreg_preds))"
   ]
  },
  {
   "cell_type": "markdown",
   "metadata": {},
   "source": [
    "  Now we will look at a confusion matrix using a seaborn heatmap to visualize how the model performed on each of our classes."
   ]
  },
  {
   "cell_type": "code",
   "execution_count": 33,
   "metadata": {},
   "outputs": [],
   "source": [
    "#Function to plot a confusion matrix given true and predicted values from a model\n",
    "def plot_conf_matrix(y_true, y_pred, model_name=None, cmap='Blues'):\n",
    "    class_names = set(y_true)\n",
    "    cm = confusion_matrix(y_true, y_pred)\n",
    "    dataframe = pd.DataFrame(cm, index=class_names, columns=class_names)\n",
    "    plt.figure(figsize=(8,6))\n",
    "    sns.heatmap(dataframe, annot=True, cbar=None, cmap=cmap, fmt='.00f', annot_kws={\"size\":12})\n",
    "    if model_name:\n",
    "        plt.title(\"Confusion Matrix: {}\".format(model_name), fontsize=15)\n",
    "    else:\n",
    "        plt.title(\"Confusion Matrix\", fontsize=15)\n",
    "    plt.ylabel(\"True Class\",fontsize=12)\n",
    "    plt.xlabel('Predicted Class', fontsize=12)\n",
    "    plt.show()"
   ]
  },
  {
   "cell_type": "code",
   "execution_count": 34,
   "metadata": {},
   "outputs": [
    {
     "data": {
      "image/png": "[encoded data removed]",
      "text/plain": [
       "<Figure size 576x432 with 1 Axes>"
      ]
     },
     "metadata": {
      "needs_background": "light"
     },
     "output_type": "display_data"
    }
   ],
   "source": [
    "plot_conf_matrix(y_test, logreg_preds, model_name='Baseline Logistic Regression')"
   ]
  },
  {
   "cell_type": "markdown",
   "metadata": {},
   "source": [
    "As we can see, the baseline logistic regression model achieves an accuracy score of 90%.  However out of 10,297 data points in the test set, it only predicts a 1 (meaning customer subscribed to the deposit) 394 times, when in reality there were 1153 subscribers.  This is a problem with the unbalanced dataset.  The baseline model has a precision score of 66% and recall score of only 22%.  Of those two metrics, we will prefer to prioritize Precision score (TP / (TP+FP)) in order to minimize False Positives.  In our case a False Positive is harmful because we believe a potential customer has subscribed to the term deposit when they have not, therefore the bank may lose out on the customer by not continuing to market to the customer.  False Negatives are not as harmful, may lead to mild annoyance from the customer if they are contacted again about a product they already subscribed to, but the bank has the business and that should become apparent quickly."
   ]
  },
  {
   "cell_type": "markdown",
   "metadata": {},
   "source": [
    "Let's see if we get better results if we upsample the minority class to balance our dataset.  We will use SMOTE to upsample  the training data and leave the test data untouched for prediction purposes."
   ]
  },
  {
   "cell_type": "code",
   "execution_count": 35,
   "metadata": {},
   "outputs": [
    {
     "name": "stdout",
     "output_type": "stream",
     "text": [
      "0    27404\n",
      "1     3487\n",
      "Name: deposit, dtype: int64\n",
      "1    27404\n",
      "0    27404\n",
      "dtype: int64\n"
     ]
    }
   ],
   "source": [
    "#SMOTE upsampling, and viewing target value counts before and after\n",
    "print(y_train.value_counts())\n",
    "X_upsampled_train, y_upsampled_train = SMOTE().fit_sample(X_train, y_train)\n",
    "print(pd.Series(y_upsampled_train).value_counts())"
   ]
  },
  {
   "cell_type": "markdown",
   "metadata": {},
   "source": [
    "We now have data with equal occurences of our target variable to train on.  Let's run a basic logistic regression again using this training data to see if our model performs any better on the same test data."
   ]
  },
  {
   "cell_type": "markdown",
   "metadata": {},
   "source": [
    "### Upsampled Logistic Regression Model (logreg2)"
   ]
  },
  {
   "cell_type": "code",
   "execution_count": 36,
   "metadata": {},
   "outputs": [
    {
     "data": {
      "text/plain": [
       "LogisticRegression(C=1.0, class_weight=None, dual=False, fit_intercept=True,\n",
       "                   intercept_scaling=1, l1_ratio=None, max_iter=100,\n",
       "                   multi_class='auto', n_jobs=None, penalty='l2',\n",
       "                   random_state=None, solver='lbfgs', tol=0.0001, verbose=0,\n",
       "                   warm_start=False)"
      ]
     },
     "execution_count": 36,
     "metadata": {},
     "output_type": "execute_result"
    }
   ],
   "source": [
    "#Instantiate and fit a resampled logistic regression model\n",
    "logreg2 = LogisticRegression()\n",
    "logreg2.fit(X_upsampled_train, y_upsampled_train)"
   ]
  },
  {
   "cell_type": "code",
   "execution_count": 37,
   "metadata": {},
   "outputs": [
    {
     "name": "stdout",
     "output_type": "stream",
     "text": [
      "Upsampled Logistic Regression Model\n",
      "------------------------------------------------------------\n",
      "Test Accuracy Score: 0.8172\n",
      "------------------------------------------------------------\n",
      "Test Precision Score: 0.3294\n",
      "------------------------------------------------------------\n",
      "Test Recall Score: 0.6106\n",
      "------------------------------------------------------------\n",
      "Test F1 Score: 0.428\n",
      "------------------------------------------------------------\n",
      "              precision    recall  f1-score   support\n",
      "\n",
      "           0       0.94      0.84      0.89      9144\n",
      "           1       0.33      0.61      0.43      1153\n",
      "\n",
      "    accuracy                           0.82     10297\n",
      "   macro avg       0.64      0.73      0.66     10297\n",
      "weighted avg       0.88      0.82      0.84     10297\n",
      "\n"
     ]
    }
   ],
   "source": [
    "#make predictions and run metrics on X_test set\n",
    "logreg2_preds = logreg2.predict(X_test)\n",
    "logreg2_acc = round(accuracy_score(y_test, logreg2_preds),4)\n",
    "logreg2_precision = round(precision_score(y_test, logreg2_preds), 4)\n",
    "logreg2_recall = round(recall_score(y_test, logreg2_preds), 4)\n",
    "logreg2_f1 = round(f1_score(y_test, logreg2_preds), 4)\n",
    "print('Upsampled Logistic Regression Model')\n",
    "print('-' * 60)\n",
    "print(f'Test Accuracy Score: {logreg2_acc}')\n",
    "print('-' * 60)\n",
    "print(f'Test Precision Score: {logreg2_precision}')\n",
    "print('-' * 60)\n",
    "print(f'Test Recall Score: {logreg2_recall}')\n",
    "print('-' * 60)\n",
    "print(f'Test F1 Score: {logreg2_f1}')\n",
    "print('-' * 60)\n",
    "print(classification_report(y_test, logreg2_preds))"
   ]
  },
  {
   "cell_type": "code",
   "execution_count": 38,
   "metadata": {},
   "outputs": [
    {
     "data": {
      "image/png": "[encoded data removed]",
      "text/plain": [
       "<Figure size 576x432 with 1 Axes>"
      ]
     },
     "metadata": {
      "needs_background": "light"
     },
     "output_type": "display_data"
    }
   ],
   "source": [
    "plot_conf_matrix(y_test, logreg2_preds, model_name='Upsampled Logistic Regression')"
   ]
  },
  {
   "cell_type": "markdown",
   "metadata": {},
   "source": [
    "Using the upsampled data, both our Accuracy (0.82) and Precision (0.33) scores take a hit.  The model got better at predicting the minority class (1 or 'yes' deposit) but it led to a great increase in False Positives which we want to avoid. "
   ]
  },
  {
   "cell_type": "markdown",
   "metadata": {},
   "source": [
    "Next we will go back to our original unbalanced data and run a grid search to tune and optimize certain hyperparameters."
   ]
  },
  {
   "cell_type": "code",
   "execution_count": 39,
   "metadata": {},
   "outputs": [],
   "source": [
    "#define a parameter grid\n",
    "logreg_grid = {\"C\":[.001, .01, .1, 1.0, 10, 100], \"penalty\":[\"l1\", \"l2\"], \"class_weight\": ['balanced', None]}\n",
    "\n",
    "#define scoring matrix for our gridsearch\n",
    "scorers = {\n",
    "    'precision_score': make_scorer(precision_score),\n",
    "    'recall_score': make_scorer(recall_score),\n",
    "    'accuracy_score': make_scorer(accuracy_score)\n",
    "}\n",
    "\n",
    "#define function to run gridsearch given model and parameter grid\n",
    "def grid_search_wrapper(model, grid, refit_score='precision_score'):\n",
    "    \"\"\"\n",
    "    fits a GridSearchCV classifier using refit_score for optimization\n",
    "    prints classifier performance metrics\n",
    "    \"\"\"\n",
    "    grid_search = GridSearchCV(model, param_grid = grid, scoring=scorers, refit=refit_score, n_jobs=-1)\n",
    "    grid_search.fit(X_train, y_train)\n",
    "\n",
    "    # make the predictions\n",
    "    y_pred = grid_search.predict(X_test)\n",
    "\n",
    "    print('Best params for {}'.format(refit_score))\n",
    "    print(grid_search.best_params_)\n",
    "    return grid_search\n",
    "    "
   ]
  },
  {
   "cell_type": "code",
   "execution_count": 40,
   "metadata": {},
   "outputs": [
    {
     "name": "stdout",
     "output_type": "stream",
     "text": [
      "Best params for precision_score\n",
      "{'C': 0.001, 'class_weight': None, 'penalty': 'l2'}\n"
     ]
    }
   ],
   "source": [
    "grid_search_logreg = grid_search_wrapper(logreg, logreg_grid)"
   ]
  },
  {
   "cell_type": "code",
   "execution_count": 41,
   "metadata": {},
   "outputs": [
    {
     "data": {
      "text/html": [
       "<div>\n",
       "<style scoped>\n",
       "    .dataframe tbody tr th:only-of-type {\n",
       "        vertical-align: middle;\n",
       "    }\n",
       "\n",
       "    .dataframe tbody tr th {\n",
       "        vertical-align: top;\n",
       "    }\n",
       "\n",
       "    .dataframe thead th {\n",
       "        text-align: right;\n",
       "    }\n",
       "</style>\n",
       "<table border=\"1\" class=\"dataframe\">\n",
       "  <thead>\n",
       "    <tr style=\"text-align: right;\">\n",
       "      <th></th>\n",
       "      <th>mean_test_precision_score</th>\n",
       "      <th>mean_test_recall_score</th>\n",
       "      <th>mean_test_accuracy_score</th>\n",
       "    </tr>\n",
       "  </thead>\n",
       "  <tbody>\n",
       "    <tr>\n",
       "      <th>3</th>\n",
       "      <td>0.709</td>\n",
       "      <td>0.187</td>\n",
       "      <td>0.900</td>\n",
       "    </tr>\n",
       "    <tr>\n",
       "      <th>7</th>\n",
       "      <td>0.703</td>\n",
       "      <td>0.206</td>\n",
       "      <td>0.901</td>\n",
       "    </tr>\n",
       "    <tr>\n",
       "      <th>11</th>\n",
       "      <td>0.671</td>\n",
       "      <td>0.227</td>\n",
       "      <td>0.900</td>\n",
       "    </tr>\n",
       "    <tr>\n",
       "      <th>15</th>\n",
       "      <td>0.658</td>\n",
       "      <td>0.227</td>\n",
       "      <td>0.899</td>\n",
       "    </tr>\n",
       "    <tr>\n",
       "      <th>19</th>\n",
       "      <td>0.657</td>\n",
       "      <td>0.229</td>\n",
       "      <td>0.899</td>\n",
       "    </tr>\n",
       "  </tbody>\n",
       "</table>\n",
       "</div>"
      ],
      "text/plain": [
       "    mean_test_precision_score  mean_test_recall_score  \\\n",
       "3                       0.709                   0.187   \n",
       "7                       0.703                   0.206   \n",
       "11                      0.671                   0.227   \n",
       "15                      0.658                   0.227   \n",
       "19                      0.657                   0.229   \n",
       "\n",
       "    mean_test_accuracy_score  \n",
       "3                      0.900  \n",
       "7                      0.901  \n",
       "11                     0.900  \n",
       "15                     0.899  \n",
       "19                     0.899  "
      ]
     },
     "execution_count": 41,
     "metadata": {},
     "output_type": "execute_result"
    }
   ],
   "source": [
    "results = pd.DataFrame(grid_search_logreg.cv_results_)\n",
    "results = results.sort_values(by='mean_test_precision_score', ascending=False)\n",
    "results[['mean_test_precision_score', 'mean_test_recall_score', 'mean_test_accuracy_score']].round(3).head()"
   ]
  },
  {
   "cell_type": "markdown",
   "metadata": {},
   "source": [
    "Using our original unbalanced data and a bit of hyperparameter tuning we get a top Precision score of 0.71, an increase of about 6% from our Baseline model.  Let's take a look at our usual scoring metrics and confusion matrix for this model."
   ]
  },
  {
   "cell_type": "markdown",
   "metadata": {},
   "source": [
    "### Final Logistic Regression Model (logreg_final)"
   ]
  },
  {
   "cell_type": "code",
   "execution_count": 42,
   "metadata": {},
   "outputs": [
    {
     "data": {
      "text/plain": [
       "LogisticRegression(C=0.001, class_weight=None, dual=False, fit_intercept=True,\n",
       "                   intercept_scaling=1, l1_ratio=None, max_iter=100,\n",
       "                   multi_class='auto', n_jobs=None, penalty='l2',\n",
       "                   random_state=42, solver='lbfgs', tol=0.0001, verbose=0,\n",
       "                   warm_start=False)"
      ]
     },
     "execution_count": 42,
     "metadata": {},
     "output_type": "execute_result"
    }
   ],
   "source": [
    "#final logisic regression model with parameters from the grid search\n",
    "logreg_final = LogisticRegression(C = .001, class_weight=None, penalty='l2', random_state=random_state)\n",
    "logreg_final.fit(X_train, y_train)"
   ]
  },
  {
   "cell_type": "code",
   "execution_count": 43,
   "metadata": {},
   "outputs": [
    {
     "name": "stdout",
     "output_type": "stream",
     "text": [
      "Final Logistic Regression Model\n",
      "------------------------------------------------------------\n",
      "Test Accuracy Score: 0.8997\n",
      "------------------------------------------------------------\n",
      "Test Precision Score: 0.684\n",
      "------------------------------------------------------------\n",
      "Test Recall Score: 0.1934\n",
      "------------------------------------------------------------\n",
      "Test F1 Score: 0.3016\n",
      "------------------------------------------------------------\n",
      "              precision    recall  f1-score   support\n",
      "\n",
      "           0       0.91      0.99      0.95      9144\n",
      "           1       0.68      0.19      0.30      1153\n",
      "\n",
      "    accuracy                           0.90     10297\n",
      "   macro avg       0.80      0.59      0.62     10297\n",
      "weighted avg       0.88      0.90      0.87     10297\n",
      "\n"
     ]
    }
   ],
   "source": [
    "#make predictions and run metrics on X_test set\n",
    "logreg_final_preds = logreg_final.predict(X_test)\n",
    "logreg_final_acc = round(accuracy_score(y_test, logreg_final_preds),4)\n",
    "logreg_final_precision = round(precision_score(y_test, logreg_final_preds), 4)\n",
    "logreg_final_recall = round(recall_score(y_test, logreg_final_preds), 4)\n",
    "logreg_final_f1 = round(f1_score(y_test, logreg_final_preds), 4)\n",
    "print('Final Logistic Regression Model')\n",
    "print('-' * 60)\n",
    "print(f'Test Accuracy Score: {logreg_final_acc}')\n",
    "print('-' * 60)\n",
    "print(f'Test Precision Score: {logreg_final_precision}')\n",
    "print('-' * 60)\n",
    "print(f'Test Recall Score: {logreg_final_recall}')\n",
    "print('-' * 60)\n",
    "print(f'Test F1 Score: {logreg_final_f1}')\n",
    "print('-' * 60)\n",
    "print(classification_report(y_test, logreg_final_preds))"
   ]
  },
  {
   "cell_type": "code",
   "execution_count": 44,
   "metadata": {},
   "outputs": [
    {
     "data": {
      "image/png": "[encoded data removed]",
      "text/plain": [
       "<Figure size 576x432 with 1 Axes>"
      ]
     },
     "metadata": {
      "needs_background": "light"
     },
     "output_type": "display_data"
    }
   ],
   "source": [
    "plot_conf_matrix(y_test, logreg_final_preds, model_name='Final Logistic Regression')"
   ]
  },
  {
   "cell_type": "markdown",
   "metadata": {},
   "source": [
    "With the unbalanced data we are given, without resampling, the model is just always going to predict a lot more of the majority (0 - no deposit in our case) class.  Our final model gives us an Accuracy of 90% and Precision of 68%.  Recall is sacrificed but as explained above we are ok with that in this business case.  Most importantly we have minimized our False Positives."
   ]
  },
  {
   "cell_type": "markdown",
   "metadata": {},
   "source": [
    "#### Logreg Final Feature Importance\n",
    "* Now we take a look at the relative feature importance for our final logistic regression model, sorted by absolute value of the coefficients from the model."
   ]
  },
  {
   "cell_type": "code",
   "execution_count": 45,
   "metadata": {},
   "outputs": [
    {
     "data": {
      "text/plain": [
       "999    39673\n",
       "3        439\n",
       "6        412\n",
       "4        118\n",
       "9         64\n",
       "2         61\n",
       "7         60\n",
       "12        58\n",
       "10        52\n",
       "5         46\n",
       "13        36\n",
       "11        28\n",
       "1         26\n",
       "15        24\n",
       "14        20\n",
       "8         18\n",
       "0         15\n",
       "16        11\n",
       "17         8\n",
       "18         7\n",
       "19         3\n",
       "22         3\n",
       "21         2\n",
       "26         1\n",
       "20         1\n",
       "25         1\n",
       "27         1\n",
       "Name: pdays, dtype: int64"
      ]
     },
     "execution_count": 45,
     "metadata": {},
     "output_type": "execute_result"
    }
   ],
   "source": [
    "df.pdays.value_counts()"
   ]
  },
  {
   "cell_type": "code",
   "execution_count": 46,
   "metadata": {},
   "outputs": [
    {
     "data": {
      "image/png": "[encoded data removed]",
      "text/plain": [
       "<Figure size 864x576 with 1 Axes>"
      ]
     },
     "metadata": {
      "needs_background": "light"
     },
     "output_type": "display_data"
    }
   ],
   "source": [
    "feature_importance = abs(logreg_final.coef_[0])\n",
    "feature_importance = 100.0 * (feature_importance / feature_importance.max())\n",
    "sorted_idx = np.argsort(feature_importance)\n",
    "pos = np.arange(sorted_idx.shape[0]) + .5\n",
    "\n",
    "fig = plt.figure(figsize=(12,8))\n",
    "ax = fig.add_subplot(1, 1, 1)\n",
    "ax.barh(pos, feature_importance[sorted_idx], align='center')\n",
    "ax.set_yticks(pos)\n",
    "ax.set_yticklabels(np.array(feats.columns)[sorted_idx], fontsize=10)\n",
    "ax.set_xlabel('Relative Feature Importance')\n",
    "\n",
    "plt.tight_layout()   \n",
    "plt.show()"
   ]
  },
  {
   "cell_type": "markdown",
   "metadata": {},
   "source": [
    "### Logistic Regression Conclusions\n",
    " - The Final Logistic Regression Model optimized for precision score (and using our original unbalanced data) has an Accuracy Score of 90% and Precision Score of 68%, a small improvement over the baseline model.  False positives were minimized, according to our goal but Recall was sacrificed as the model predicted fewer of the minority class.\n",
    " - Social and Economic Indicator features dominate the feature importance rankings.  pdays appears near the top as well, that variable shows that the overwhelming majority of customers were not previously contacted for the campaign.  The month of May also has a high importance, likely signaling an important economic event during the month.\n",
    "  "
   ]
  },
  {
   "cell_type": "markdown",
   "metadata": {},
   "source": [
    "Next we will look at Decision Trees to classify our data."
   ]
  },
  {
   "cell_type": "markdown",
   "metadata": {},
   "source": [
    "### Baseline Decision Tree Model (tree)"
   ]
  },
  {
   "cell_type": "code",
   "execution_count": 47,
   "metadata": {
    "scrolled": true
   },
   "outputs": [
    {
     "data": {
      "text/plain": [
       "DecisionTreeClassifier(ccp_alpha=0.0, class_weight=None, criterion='gini',\n",
       "                       max_depth=None, max_features=None, max_leaf_nodes=None,\n",
       "                       min_impurity_decrease=0.0, min_impurity_split=None,\n",
       "                       min_samples_leaf=1, min_samples_split=2,\n",
       "                       min_weight_fraction_leaf=0.0, presort='deprecated',\n",
       "                       random_state=42, splitter='best')"
      ]
     },
     "execution_count": 47,
     "metadata": {},
     "output_type": "execute_result"
    }
   ],
   "source": [
    "#Instantiate and fit a baseline Decision Tree model\n",
    "tree = DecisionTreeClassifier(random_state=random_state)\n",
    "tree.fit(X_train, y_train)"
   ]
  },
  {
   "cell_type": "code",
   "execution_count": 48,
   "metadata": {},
   "outputs": [
    {
     "name": "stdout",
     "output_type": "stream",
     "text": [
      "Baseline Decision Tree Model\n",
      "------------------------------------------------------------\n",
      "Test Accuracy Score: 0.8404\n",
      "------------------------------------------------------------\n",
      "Test Precision Score: 0.3015\n",
      "------------------------------------------------------------\n",
      "Test Recall Score: 0.3226\n",
      "------------------------------------------------------------\n",
      "Test F1 Score: 0.3117\n",
      "------------------------------------------------------------\n",
      "              precision    recall  f1-score   support\n",
      "\n",
      "           0       0.91      0.91      0.91      9144\n",
      "           1       0.30      0.32      0.31      1153\n",
      "\n",
      "    accuracy                           0.84     10297\n",
      "   macro avg       0.61      0.61      0.61     10297\n",
      "weighted avg       0.85      0.84      0.84     10297\n",
      "\n"
     ]
    }
   ],
   "source": [
    "#make predictions and run metrics on X_test set\n",
    "tree_preds = tree.predict(X_test)\n",
    "tree_acc = round(accuracy_score(y_test, tree_preds),4)\n",
    "tree_precision = round(precision_score(y_test, tree_preds), 4)\n",
    "tree_recall = round(recall_score(y_test, tree_preds), 4)\n",
    "tree_f1 = round(f1_score(y_test, tree_preds), 4)\n",
    "print('Baseline Decision Tree Model')\n",
    "print('-' * 60)\n",
    "print(f'Test Accuracy Score: {tree_acc}')\n",
    "print('-' * 60)\n",
    "print(f'Test Precision Score: {tree_precision}')\n",
    "print('-' * 60)\n",
    "print(f'Test Recall Score: {tree_recall}')\n",
    "print('-' * 60)\n",
    "print(f'Test F1 Score: {tree_f1}')\n",
    "print('-' * 60)\n",
    "print(classification_report(y_test, tree_preds))"
   ]
  },
  {
   "cell_type": "code",
   "execution_count": 49,
   "metadata": {},
   "outputs": [
    {
     "data": {
      "image/png": "[encoded data removed]",
      "text/plain": [
       "<Figure size 576x432 with 1 Axes>"
      ]
     },
     "metadata": {
      "needs_background": "light"
     },
     "output_type": "display_data"
    }
   ],
   "source": [
    "plot_conf_matrix(y_test, tree_preds, model_name='Baseline Decision Tree')"
   ]
  },
  {
   "cell_type": "markdown",
   "metadata": {},
   "source": [
    "The Baseline Decision Tree model achieves a decent Accuracy score of 84% but suffers in both Precision (30%) and Recall (32%).\n",
    "\n",
    "Let's take a look at Feature Importance from our baseline Decision Tree."
   ]
  },
  {
   "cell_type": "code",
   "execution_count": 50,
   "metadata": {},
   "outputs": [],
   "source": [
    "# Function to print the feature importances\n",
    "def sort_importance_list(model_classifier, data=feats):\n",
    "    importances = model_classifier.feature_importances_\n",
    "    features = data.columns\n",
    "    features_importance = pd.DataFrame(importances, index=features, columns=['Importance'])\n",
    "    sorted_feat_imp = features_importance.sort_values('Importance', axis=0, ascending=False)\n",
    "    return print(sorted_feat_imp)"
   ]
  },
  {
   "cell_type": "code",
   "execution_count": 51,
   "metadata": {},
   "outputs": [
    {
     "name": "stdout",
     "output_type": "stream",
     "text": [
      "                               Importance\n",
      "age                              0.173231\n",
      "nr.employed                      0.161569\n",
      "euribor3m                        0.090208\n",
      "campaign                         0.079237\n",
      "housing_yes                      0.039684\n",
      "pdays                            0.038753\n",
      "loan_yes                         0.028918\n",
      "marital_married                  0.025805\n",
      "cons.conf.idx                    0.022886\n",
      "education_university.degree      0.021757\n",
      "job_technician                   0.020712\n",
      "marital_single                   0.017669\n",
      "education_high.school            0.017522\n",
      "day_of_week_wed                  0.017418\n",
      "day_of_week_mon                  0.016286\n",
      "day_of_week_tue                  0.015996\n",
      "default_unknown                  0.015759\n",
      "day_of_week_thu                  0.015664\n",
      "previous                         0.014833\n",
      "job_blue-collar                  0.014063\n",
      "education_basic.9y               0.013868\n",
      "job_management                   0.012135\n",
      "job_services                     0.012122\n",
      "education_professional.course    0.010914\n",
      "cons.price.idx                   0.010588\n",
      "contact_telephone                0.010381\n",
      "poutcome_nonexistent             0.008369\n",
      "month_oct                        0.007263\n",
      "education_unknown                0.006989\n",
      "job_entrepreneur                 0.006863\n",
      "education_basic.6y               0.006309\n",
      "job_self-employed                0.005986\n",
      "job_retired                      0.005698\n",
      "job_housemaid                    0.005505\n",
      "job_unemployed                   0.004785\n",
      "job_student                      0.004288\n",
      "housing_unknown                  0.003117\n",
      "loan_unknown                     0.002929\n",
      "month_jul                        0.002877\n",
      "emp.var.rate                     0.001895\n",
      "month_nov                        0.001723\n",
      "job_unknown                      0.001511\n",
      "month_jun                        0.001414\n",
      "poutcome_success                 0.000978\n",
      "month_may                        0.000970\n",
      "month_sep                        0.000931\n",
      "marital_unknown                  0.000692\n",
      "month_mar                        0.000495\n",
      "month_aug                        0.000221\n",
      "education_illiterate             0.000216\n",
      "default_yes                      0.000000\n",
      "month_dec                        0.000000\n"
     ]
    }
   ],
   "source": [
    "#Print feature importances from baseline decision tree\n",
    "sort_importance_list(tree)"
   ]
  },
  {
   "cell_type": "markdown",
   "metadata": {},
   "source": [
    "Next we will run the Decision Tree on our SMOTE balanced data."
   ]
  },
  {
   "cell_type": "markdown",
   "metadata": {},
   "source": [
    "### Upsampled Decision Tree Model (tree2)"
   ]
  },
  {
   "cell_type": "code",
   "execution_count": 52,
   "metadata": {},
   "outputs": [
    {
     "data": {
      "text/plain": [
       "DecisionTreeClassifier(ccp_alpha=0.0, class_weight=None, criterion='gini',\n",
       "                       max_depth=None, max_features=None, max_leaf_nodes=None,\n",
       "                       min_impurity_decrease=0.0, min_impurity_split=None,\n",
       "                       min_samples_leaf=1, min_samples_split=2,\n",
       "                       min_weight_fraction_leaf=0.0, presort='deprecated',\n",
       "                       random_state=None, splitter='best')"
      ]
     },
     "execution_count": 52,
     "metadata": {},
     "output_type": "execute_result"
    }
   ],
   "source": [
    "#Instantiate and fit a resampled decision tree model\n",
    "tree2 = DecisionTreeClassifier()\n",
    "tree2.fit(X_upsampled_train, y_upsampled_train)"
   ]
  },
  {
   "cell_type": "code",
   "execution_count": 53,
   "metadata": {},
   "outputs": [
    {
     "name": "stdout",
     "output_type": "stream",
     "text": [
      "Upsampled Decision Tree Model\n",
      "------------------------------------------------------------\n",
      "Test Accuracy Score: 0.8418\n",
      "------------------------------------------------------------\n",
      "Test Precision Score: 0.3178\n",
      "------------------------------------------------------------\n",
      "Test Recall Score: 0.3599\n",
      "------------------------------------------------------------\n",
      "Test F1 Score: 0.3375\n",
      "------------------------------------------------------------\n",
      "              precision    recall  f1-score   support\n",
      "\n",
      "           0       0.92      0.90      0.91      9144\n",
      "           1       0.32      0.36      0.34      1153\n",
      "\n",
      "    accuracy                           0.84     10297\n",
      "   macro avg       0.62      0.63      0.62     10297\n",
      "weighted avg       0.85      0.84      0.85     10297\n",
      "\n"
     ]
    }
   ],
   "source": [
    "#make predictions and run metrics on X_test set\n",
    "tree2_preds = tree2.predict(X_test)\n",
    "tree2_acc = round(accuracy_score(y_test, tree2_preds),4)\n",
    "tree2_precision = round(precision_score(y_test, tree2_preds), 4)\n",
    "tree2_recall = round(recall_score(y_test, tree2_preds), 4)\n",
    "tree2_f1 = round(f1_score(y_test, tree2_preds), 4)\n",
    "print('Upsampled Decision Tree Model')\n",
    "print('-' * 60)\n",
    "print(f'Test Accuracy Score: {tree2_acc}')\n",
    "print('-' * 60)\n",
    "print(f'Test Precision Score: {tree2_precision}')\n",
    "print('-' * 60)\n",
    "print(f'Test Recall Score: {tree2_recall}')\n",
    "print('-' * 60)\n",
    "print(f'Test F1 Score: {tree2_f1}')\n",
    "print('-' * 60)\n",
    "print(classification_report(y_test, tree2_preds))"
   ]
  },
  {
   "cell_type": "code",
   "execution_count": 54,
   "metadata": {},
   "outputs": [
    {
     "data": {
      "image/png": "[encoded data removed]",
      "text/plain": [
       "<Figure size 576x432 with 1 Axes>"
      ]
     },
     "metadata": {
      "needs_background": "light"
     },
     "output_type": "display_data"
    }
   ],
   "source": [
    "plot_conf_matrix(y_test, tree2_preds, model_name='Upsampled Decision Tree')"
   ]
  },
  {
   "cell_type": "markdown",
   "metadata": {},
   "source": [
    "Using the upsampled data does not help our case.  Accuracy, Recall and Precision are all pretty much the same, and there is an uptick in False Positives which we are trying to avoid.  \n",
    "\n"
   ]
  },
  {
   "cell_type": "code",
   "execution_count": 55,
   "metadata": {},
   "outputs": [
    {
     "name": "stdout",
     "output_type": "stream",
     "text": [
      "                               Importance\n",
      "nr.employed                      0.203496\n",
      "campaign                         0.177985\n",
      "euribor3m                        0.086393\n",
      "age                              0.074038\n",
      "cons.conf.idx                    0.055938\n",
      "default_unknown                  0.040402\n",
      "contact_telephone                0.037544\n",
      "housing_yes                      0.036012\n",
      "loan_yes                         0.018855\n",
      "day_of_week_wed                  0.018085\n",
      "day_of_week_thu                  0.016585\n",
      "day_of_week_tue                  0.016478\n",
      "day_of_week_mon                  0.015153\n",
      "marital_married                  0.014849\n",
      "education_university.degree      0.014097\n",
      "month_oct                        0.011982\n",
      "job_technician                   0.011806\n",
      "job_services                     0.010005\n",
      "marital_single                   0.009336\n",
      "education_high.school            0.009328\n",
      "job_blue-collar                  0.009115\n",
      "cons.price.idx                   0.008922\n",
      "education_basic.9y               0.008864\n",
      "job_management                   0.008100\n",
      "education_professional.course    0.007640\n",
      "education_basic.6y               0.007380\n",
      "pdays                            0.006877\n",
      "previous                         0.006331\n",
      "job_self-employed                0.005214\n",
      "job_retired                      0.004995\n",
      "job_entrepreneur                 0.004932\n",
      "poutcome_nonexistent             0.004362\n",
      "education_unknown                0.004361\n",
      "job_unemployed                   0.004144\n",
      "poutcome_success                 0.004050\n",
      "job_student                      0.003569\n",
      "job_housemaid                    0.003282\n",
      "emp.var.rate                     0.002684\n",
      "month_jul                        0.002662\n",
      "month_nov                        0.002369\n",
      "month_may                        0.002061\n",
      "month_jun                        0.001724\n",
      "housing_unknown                  0.001309\n",
      "job_unknown                      0.001168\n",
      "loan_unknown                     0.001144\n",
      "month_sep                        0.001097\n",
      "month_aug                        0.000963\n",
      "month_mar                        0.000952\n",
      "marital_unknown                  0.000675\n",
      "month_dec                        0.000569\n",
      "education_illiterate             0.000118\n",
      "default_yes                      0.000000\n"
     ]
    }
   ],
   "source": [
    "#Print feature importances from upsampled decision tree\n",
    "sort_importance_list(tree2)"
   ]
  },
  {
   "cell_type": "markdown",
   "metadata": {},
   "source": [
    "Top 4 most important features are the same as our baseline decision tree - nr.employed, campaign, euribor3m, and age."
   ]
  },
  {
   "cell_type": "markdown",
   "metadata": {},
   "source": [
    "We will stick with our original pre-SMOTE data, and see if we can improve our metrics by tuning some hyperparameters."
   ]
  },
  {
   "cell_type": "markdown",
   "metadata": {},
   "source": [
    "### Final Decision Tree Using Gridsearch to tune hyperparameters (tree_final)"
   ]
  },
  {
   "cell_type": "code",
   "execution_count": 56,
   "metadata": {},
   "outputs": [
    {
     "name": "stdout",
     "output_type": "stream",
     "text": [
      "Best params for precision_score\n",
      "{'criterion': 'gini', 'max_depth': 6, 'max_features': 10, 'max_leaf_nodes': 10, 'min_samples_split': 2}\n"
     ]
    }
   ],
   "source": [
    "#define parameter grid\n",
    "tree_grid = {'criterion': ['gini', 'entropy'],\n",
    "             'max_depth': range(2,10),\n",
    "             'max_features': range(5,25,5),\n",
    "             'max_leaf_nodes': range(5,40,5),\n",
    "             'min_samples_split': range(2,20,2)}\n",
    "             \n",
    "grid_search_tree = grid_search_wrapper(tree, tree_grid)"
   ]
  },
  {
   "cell_type": "code",
   "execution_count": 57,
   "metadata": {},
   "outputs": [
    {
     "data": {
      "text/html": [
       "<div>\n",
       "<style scoped>\n",
       "    .dataframe tbody tr th:only-of-type {\n",
       "        vertical-align: middle;\n",
       "    }\n",
       "\n",
       "    .dataframe tbody tr th {\n",
       "        vertical-align: top;\n",
       "    }\n",
       "\n",
       "    .dataframe thead th {\n",
       "        text-align: right;\n",
       "    }\n",
       "</style>\n",
       "<table border=\"1\" class=\"dataframe\">\n",
       "  <thead>\n",
       "    <tr style=\"text-align: right;\">\n",
       "      <th></th>\n",
       "      <th>mean_test_precision_score</th>\n",
       "      <th>mean_test_recall_score</th>\n",
       "      <th>mean_test_accuracy_score</th>\n",
       "    </tr>\n",
       "  </thead>\n",
       "  <tbody>\n",
       "    <tr>\n",
       "      <th>1838</th>\n",
       "      <td>0.765</td>\n",
       "      <td>0.107</td>\n",
       "      <td>0.895</td>\n",
       "    </tr>\n",
       "    <tr>\n",
       "      <th>1585</th>\n",
       "      <td>0.765</td>\n",
       "      <td>0.107</td>\n",
       "      <td>0.895</td>\n",
       "    </tr>\n",
       "    <tr>\n",
       "      <th>1082</th>\n",
       "      <td>0.765</td>\n",
       "      <td>0.107</td>\n",
       "      <td>0.895</td>\n",
       "    </tr>\n",
       "    <tr>\n",
       "      <th>1080</th>\n",
       "      <td>0.765</td>\n",
       "      <td>0.107</td>\n",
       "      <td>0.895</td>\n",
       "    </tr>\n",
       "    <tr>\n",
       "      <th>1337</th>\n",
       "      <td>0.765</td>\n",
       "      <td>0.107</td>\n",
       "      <td>0.895</td>\n",
       "    </tr>\n",
       "  </tbody>\n",
       "</table>\n",
       "</div>"
      ],
      "text/plain": [
       "      mean_test_precision_score  mean_test_recall_score  \\\n",
       "1838                      0.765                   0.107   \n",
       "1585                      0.765                   0.107   \n",
       "1082                      0.765                   0.107   \n",
       "1080                      0.765                   0.107   \n",
       "1337                      0.765                   0.107   \n",
       "\n",
       "      mean_test_accuracy_score  \n",
       "1838                     0.895  \n",
       "1585                     0.895  \n",
       "1082                     0.895  \n",
       "1080                     0.895  \n",
       "1337                     0.895  "
      ]
     },
     "execution_count": 57,
     "metadata": {},
     "output_type": "execute_result"
    }
   ],
   "source": [
    "results = pd.DataFrame(grid_search_tree.cv_results_)\n",
    "results = results.sort_values(by='mean_test_precision_score', ascending=False)\n",
    "results[['mean_test_precision_score', 'mean_test_recall_score', 'mean_test_accuracy_score']].round(3).head()"
   ]
  },
  {
   "cell_type": "markdown",
   "metadata": {},
   "source": [
    "Taking a quick look at the results from our Gridsearch optimizing for Precision Score, we see some much improved Precision scores of 0.765 and Accuracy of 0.895.  Recall takes a big hit down to around 11%\n",
    "\n",
    "Let's look at the model and metrics using our tuned hyperparameters."
   ]
  },
  {
   "cell_type": "code",
   "execution_count": 58,
   "metadata": {},
   "outputs": [
    {
     "data": {
      "text/plain": [
       "DecisionTreeClassifier(ccp_alpha=0.0, class_weight=None, criterion='gini',\n",
       "                       max_depth=6, max_features=10, max_leaf_nodes=10,\n",
       "                       min_impurity_decrease=0.0, min_impurity_split=None,\n",
       "                       min_samples_leaf=1, min_samples_split=2,\n",
       "                       min_weight_fraction_leaf=0.0, presort='deprecated',\n",
       "                       random_state=42, splitter='best')"
      ]
     },
     "execution_count": 58,
     "metadata": {},
     "output_type": "execute_result"
    }
   ],
   "source": [
    "tree_final = DecisionTreeClassifier(criterion='gini', max_depth=6, max_features=10, max_leaf_nodes=10, \n",
    "                                    min_samples_split=2, random_state=random_state)\n",
    "tree_final.fit(X_train, y_train)"
   ]
  },
  {
   "cell_type": "code",
   "execution_count": 59,
   "metadata": {},
   "outputs": [
    {
     "name": "stdout",
     "output_type": "stream",
     "text": [
      "Final Decision Tree Model\n",
      "------------------------------------------------------------\n",
      "Test Accuracy Score: 0.8969\n",
      "------------------------------------------------------------\n",
      "Test Precision Score: 0.8013\n",
      "------------------------------------------------------------\n",
      "Test Recall Score: 0.1049\n",
      "------------------------------------------------------------\n",
      "Test F1 Score: 0.1856\n",
      "------------------------------------------------------------\n",
      "              precision    recall  f1-score   support\n",
      "\n",
      "           0       0.90      1.00      0.94      9144\n",
      "           1       0.80      0.10      0.19      1153\n",
      "\n",
      "    accuracy                           0.90     10297\n",
      "   macro avg       0.85      0.55      0.57     10297\n",
      "weighted avg       0.89      0.90      0.86     10297\n",
      "\n"
     ]
    }
   ],
   "source": [
    "tree_final_preds = tree_final.predict(X_test)\n",
    "tree_final_acc = round(accuracy_score(y_test, tree_final_preds),4)\n",
    "tree_final_precision = round(precision_score(y_test, tree_final_preds), 4)\n",
    "tree_final_recall = round(recall_score(y_test, tree_final_preds), 4)\n",
    "tree_final_f1 = round(f1_score(y_test, tree_final_preds), 4)\n",
    "print('Final Decision Tree Model')\n",
    "print('-' * 60)\n",
    "print(f'Test Accuracy Score: {tree_final_acc}')\n",
    "print('-' * 60)\n",
    "print(f'Test Precision Score: {tree_final_precision}')\n",
    "print('-' * 60)\n",
    "print(f'Test Recall Score: {tree_final_recall}')\n",
    "print('-' * 60)\n",
    "print(f'Test F1 Score: {tree_final_f1}')\n",
    "print('-' * 60)\n",
    "print(classification_report(y_test, tree_final_preds))"
   ]
  },
  {
   "cell_type": "code",
   "execution_count": 60,
   "metadata": {},
   "outputs": [
    {
     "data": {
      "image/png": "[encoded data removed]",
      "text/plain": [
       "<Figure size 576x432 with 1 Axes>"
      ]
     },
     "metadata": {
      "needs_background": "light"
     },
     "output_type": "display_data"
    }
   ],
   "source": [
    "plot_conf_matrix(y_test, tree_final_preds, model_name='Final Decision Tree')"
   ]
  },
  {
   "cell_type": "code",
   "execution_count": 61,
   "metadata": {},
   "outputs": [
    {
     "name": "stdout",
     "output_type": "stream",
     "text": [
      "                               Importance\n",
      "emp.var.rate                     0.496376\n",
      "euribor3m                        0.339672\n",
      "poutcome_success                 0.037236\n",
      "cons.conf.idx                    0.032331\n",
      "contact_telephone                0.028398\n",
      "month_mar                        0.026208\n",
      "pdays                            0.025286\n",
      "age                              0.014493\n",
      "month_sep                        0.000000\n",
      "month_aug                        0.000000\n",
      "month_dec                        0.000000\n",
      "month_jul                        0.000000\n",
      "month_jun                        0.000000\n",
      "month_may                        0.000000\n",
      "month_nov                        0.000000\n",
      "month_oct                        0.000000\n",
      "job_blue-collar                  0.000000\n",
      "day_of_week_mon                  0.000000\n",
      "day_of_week_thu                  0.000000\n",
      "job_entrepreneur                 0.000000\n",
      "day_of_week_wed                  0.000000\n",
      "poutcome_nonexistent             0.000000\n",
      "campaign                         0.000000\n",
      "previous                         0.000000\n",
      "cons.price.idx                   0.000000\n",
      "day_of_week_tue                  0.000000\n",
      "loan_yes                         0.000000\n",
      "loan_unknown                     0.000000\n",
      "marital_single                   0.000000\n",
      "job_housemaid                    0.000000\n",
      "job_management                   0.000000\n",
      "job_retired                      0.000000\n",
      "job_self-employed                0.000000\n",
      "job_services                     0.000000\n",
      "job_student                      0.000000\n",
      "job_technician                   0.000000\n",
      "job_unemployed                   0.000000\n",
      "job_unknown                      0.000000\n",
      "marital_married                  0.000000\n",
      "marital_unknown                  0.000000\n",
      "housing_yes                      0.000000\n",
      "education_basic.6y               0.000000\n",
      "education_basic.9y               0.000000\n",
      "education_high.school            0.000000\n",
      "education_illiterate             0.000000\n",
      "education_professional.course    0.000000\n",
      "education_university.degree      0.000000\n",
      "education_unknown                0.000000\n",
      "default_unknown                  0.000000\n",
      "default_yes                      0.000000\n",
      "housing_unknown                  0.000000\n",
      "nr.employed                      0.000000\n"
     ]
    }
   ],
   "source": [
    "#Print feature importances from final decision tree\n",
    "sort_importance_list(tree_final)"
   ]
  },
  {
   "cell_type": "markdown",
   "metadata": {},
   "source": [
    "### Decision Tree Conclusions\n",
    " - The Final Decision Tree Model optimized for precision score has very similar Accuracy score as the Final Logistic Regression Model ~90%\n",
    " - Precision Score of 80% is the highest yet with only 30 False Positives, but significant reduction in Recall due to predicting very few of the minority class. \n",
    " - emp.var.rate and euribor3m (similar to Fed Funds rate in the US) are by far our most important feature in the final model, and among the top few most important features in our other models.  Economic indicators overall do most of the lifting in predicting the target variable.\n",
    " - There are other hyperparameters we could tune, and could try optimizing the model for other metrics for comparison sake, but in interest of time (and computational expense) we will conclude the Decision Tree modeling here.\n",
    "  "
   ]
  },
  {
   "cell_type": "markdown",
   "metadata": {},
   "source": [
    "### Baseline Random Forest Model (rf)"
   ]
  },
  {
   "cell_type": "markdown",
   "metadata": {},
   "source": [
    "The final model we want to look at is the Random Forest Ensemble Model.  "
   ]
  },
  {
   "cell_type": "code",
   "execution_count": 62,
   "metadata": {},
   "outputs": [
    {
     "data": {
      "text/plain": [
       "RandomForestClassifier(bootstrap=True, ccp_alpha=0.0, class_weight=None,\n",
       "                       criterion='gini', max_depth=None, max_features='auto',\n",
       "                       max_leaf_nodes=None, max_samples=None,\n",
       "                       min_impurity_decrease=0.0, min_impurity_split=None,\n",
       "                       min_samples_leaf=1, min_samples_split=2,\n",
       "                       min_weight_fraction_leaf=0.0, n_estimators=100,\n",
       "                       n_jobs=None, oob_score=False, random_state=42, verbose=0,\n",
       "                       warm_start=False)"
      ]
     },
     "execution_count": 62,
     "metadata": {},
     "output_type": "execute_result"
    }
   ],
   "source": [
    "#Instantiate and fit random forest classifier\n",
    "rf = RandomForestClassifier(random_state=random_state)\n",
    "rf.fit(X_train, y_train)"
   ]
  },
  {
   "cell_type": "code",
   "execution_count": 63,
   "metadata": {},
   "outputs": [
    {
     "name": "stdout",
     "output_type": "stream",
     "text": [
      "Baseline Random Forest Model\n",
      "------------------------------------------------------------\n",
      "Test Accuracy Score: 0.8921\n",
      "------------------------------------------------------------\n",
      "Test Precision Score: 0.5337\n",
      "------------------------------------------------------------\n",
      "Test Recall Score: 0.2888\n",
      "------------------------------------------------------------\n",
      "Test F1 Score: 0.3748\n",
      "------------------------------------------------------------\n",
      "              precision    recall  f1-score   support\n",
      "\n",
      "           0       0.92      0.97      0.94      9144\n",
      "           1       0.53      0.29      0.37      1153\n",
      "\n",
      "    accuracy                           0.89     10297\n",
      "   macro avg       0.72      0.63      0.66     10297\n",
      "weighted avg       0.87      0.89      0.88     10297\n",
      "\n"
     ]
    }
   ],
   "source": [
    "#make predictions and run metrics on X_test set\n",
    "rf_preds = rf.predict(X_test)\n",
    "rf_acc = round(accuracy_score(y_test, rf_preds),4)\n",
    "rf_precision = round(precision_score(y_test, rf_preds), 4)\n",
    "rf_recall = round(recall_score(y_test, rf_preds), 4)\n",
    "rf_f1 = round(f1_score(y_test, rf_preds), 4)\n",
    "print('Baseline Random Forest Model')\n",
    "print('-' * 60)\n",
    "print(f'Test Accuracy Score: {rf_acc}')\n",
    "print('-' * 60)\n",
    "print(f'Test Precision Score: {rf_precision}')\n",
    "print('-' * 60)\n",
    "print(f'Test Recall Score: {rf_recall}')\n",
    "print('-' * 60)\n",
    "print(f'Test F1 Score: {rf_f1}')\n",
    "print('-' * 60)\n",
    "print(classification_report(y_test, rf_preds))"
   ]
  },
  {
   "cell_type": "code",
   "execution_count": 64,
   "metadata": {},
   "outputs": [
    {
     "data": {
      "image/png": "[encoded data removed]",
      "text/plain": [
       "<Figure size 576x432 with 1 Axes>"
      ]
     },
     "metadata": {
      "needs_background": "light"
     },
     "output_type": "display_data"
    }
   ],
   "source": [
    "plot_conf_matrix(y_test, rf_preds, model_name='Baseline Random Forest')"
   ]
  },
  {
   "cell_type": "code",
   "execution_count": 65,
   "metadata": {},
   "outputs": [
    {
     "name": "stdout",
     "output_type": "stream",
     "text": [
      "                                 Importance\n",
      "age                            1.699387e-01\n",
      "euribor3m                      1.282097e-01\n",
      "campaign                       8.518422e-02\n",
      "nr.employed                    5.184117e-02\n",
      "pdays                          3.898944e-02\n",
      "housing_yes                    3.809545e-02\n",
      "poutcome_success               3.090119e-02\n",
      "cons.conf.idx                  2.632051e-02\n",
      "loan_yes                       2.514117e-02\n",
      "cons.price.idx                 2.345119e-02\n",
      "marital_married                2.108051e-02\n",
      "marital_single                 1.763916e-02\n",
      "education_university.degree    1.756741e-02\n",
      "education_high.school          1.727446e-02\n",
      "previous                       1.725881e-02\n",
      "job_technician                 1.716498e-02\n",
      "day_of_week_mon                1.646987e-02\n",
      "day_of_week_wed                1.641480e-02\n",
      "day_of_week_tue                1.629035e-02\n",
      "emp.var.rate                   1.614080e-02\n",
      "day_of_week_thu                1.584765e-02\n",
      "contact_telephone              1.569578e-02\n",
      "default_unknown                1.530185e-02\n",
      "job_blue-collar                1.332673e-02\n",
      "education_basic.9y             1.273303e-02\n",
      "education_professional.course  1.228234e-02\n",
      "job_management                 1.133317e-02\n",
      "job_services                   1.083776e-02\n",
      "poutcome_nonexistent           9.655123e-03\n",
      "job_retired                    7.626499e-03\n",
      "education_basic.6y             7.350419e-03\n",
      "education_unknown              7.041035e-03\n",
      "job_self-employed              7.031515e-03\n",
      "month_oct                      6.426408e-03\n",
      "job_entrepreneur               6.168474e-03\n",
      "job_student                    6.076659e-03\n",
      "job_unemployed                 5.783509e-03\n",
      "month_mar                      5.057023e-03\n",
      "job_housemaid                  4.666717e-03\n",
      "month_may                      3.747077e-03\n",
      "housing_unknown                3.680283e-03\n",
      "loan_unknown                   3.470495e-03\n",
      "month_jun                      3.244454e-03\n",
      "month_jul                      2.801583e-03\n",
      "month_sep                      2.598070e-03\n",
      "month_aug                      2.497551e-03\n",
      "job_unknown                    2.323857e-03\n",
      "month_nov                      2.109225e-03\n",
      "month_dec                      9.217604e-04\n",
      "marital_unknown                6.088584e-04\n",
      "education_illiterate           3.810708e-04\n",
      "default_yes                    1.210398e-07\n"
     ]
    }
   ],
   "source": [
    "#Print feature importances random forest\n",
    "sort_importance_list(rf)"
   ]
  },
  {
   "cell_type": "markdown",
   "metadata": {},
   "source": [
    "Initial reactions are that the out of the box Random Forest classifier performs fairly well with an 89% Accuracy and 53% Precision.  This outperforms the Baseline Decision Tree on both metrics.  The Precision score is lower than that of the Baseline Logistic Regression model, but the tradeoff is that here we predict a larger number of the minority target case (624 vs 393), closer to the actual number of clients that subscribe to the deposit.  In terms of feature importances, the same features appear near the top as we saw with our Decision Tree models: nr.employed, campaign, euribor3m, and age.\n",
    "\n",
    "Let's run a random forest model with the SMOTE upsampled data as well."
   ]
  },
  {
   "cell_type": "markdown",
   "metadata": {},
   "source": [
    "### Upsampled Random Forest Model (rf2)"
   ]
  },
  {
   "cell_type": "code",
   "execution_count": 66,
   "metadata": {},
   "outputs": [
    {
     "data": {
      "text/plain": [
       "RandomForestClassifier(bootstrap=True, ccp_alpha=0.0, class_weight=None,\n",
       "                       criterion='gini', max_depth=None, max_features='auto',\n",
       "                       max_leaf_nodes=None, max_samples=None,\n",
       "                       min_impurity_decrease=0.0, min_impurity_split=None,\n",
       "                       min_samples_leaf=1, min_samples_split=2,\n",
       "                       min_weight_fraction_leaf=0.0, n_estimators=100,\n",
       "                       n_jobs=None, oob_score=False, random_state=42, verbose=0,\n",
       "                       warm_start=False)"
      ]
     },
     "execution_count": 66,
     "metadata": {},
     "output_type": "execute_result"
    }
   ],
   "source": [
    "#Instantiate and fit a resampled random forest model\n",
    "rf2 = RandomForestClassifier(random_state=random_state)\n",
    "rf2.fit(X_upsampled_train, y_upsampled_train)"
   ]
  },
  {
   "cell_type": "code",
   "execution_count": 67,
   "metadata": {},
   "outputs": [
    {
     "name": "stdout",
     "output_type": "stream",
     "text": [
      "Upsampled Random Forest Model\n",
      "------------------------------------------------------------\n",
      "Test Accuracy Score: 0.8418\n",
      "------------------------------------------------------------\n",
      "Test Precision Score: 0.3178\n",
      "------------------------------------------------------------\n",
      "Test Recall Score: 0.3599\n",
      "------------------------------------------------------------\n",
      "Test F1 Score: 0.3375\n",
      "------------------------------------------------------------\n",
      "              precision    recall  f1-score   support\n",
      "\n",
      "           0       0.92      0.90      0.91      9144\n",
      "           1       0.32      0.36      0.34      1153\n",
      "\n",
      "    accuracy                           0.84     10297\n",
      "   macro avg       0.62      0.63      0.62     10297\n",
      "weighted avg       0.85      0.84      0.85     10297\n",
      "\n"
     ]
    }
   ],
   "source": [
    "#make predictions and run metrics on X_test set\n",
    "rf2_preds = tree2.predict(X_test)\n",
    "rf2_acc = round(accuracy_score(y_test, rf2_preds),4)\n",
    "rf2_precision = round(precision_score(y_test, rf2_preds), 4)\n",
    "rf2_recall = round(recall_score(y_test, rf2_preds), 4)\n",
    "rf2_f1 = round(f1_score(y_test, rf2_preds), 4)\n",
    "print('Upsampled Random Forest Model')\n",
    "print('-' * 60)\n",
    "print(f'Test Accuracy Score: {rf2_acc}')\n",
    "print('-' * 60)\n",
    "print(f'Test Precision Score: {rf2_precision}')\n",
    "print('-' * 60)\n",
    "print(f'Test Recall Score: {rf2_recall}')\n",
    "print('-' * 60)\n",
    "print(f'Test F1 Score: {rf2_f1}')\n",
    "print('-' * 60)\n",
    "print(classification_report(y_test, rf2_preds))"
   ]
  },
  {
   "cell_type": "code",
   "execution_count": 68,
   "metadata": {},
   "outputs": [
    {
     "data": {
      "image/png": "[encoded data removed]",
      "text/plain": [
       "<Figure size 576x432 with 1 Axes>"
      ]
     },
     "metadata": {
      "needs_background": "light"
     },
     "output_type": "display_data"
    }
   ],
   "source": [
    "plot_conf_matrix(y_test, rf2_preds, model_name='Upsampled Random Forest')"
   ]
  },
  {
   "cell_type": "code",
   "execution_count": 69,
   "metadata": {},
   "outputs": [
    {
     "name": "stdout",
     "output_type": "stream",
     "text": [
      "                                 Importance\n",
      "euribor3m                      1.255488e-01\n",
      "campaign                       9.202897e-02\n",
      "age                            7.925270e-02\n",
      "nr.employed                    6.295304e-02\n",
      "housing_yes                    4.646551e-02\n",
      "default_unknown                3.763727e-02\n",
      "emp.var.rate                   3.740299e-02\n",
      "contact_telephone              3.689127e-02\n",
      "cons.conf.idx                  3.019627e-02\n",
      "loan_yes                       2.998048e-02\n",
      "cons.price.idx                 2.639249e-02\n",
      "day_of_week_mon                2.380179e-02\n",
      "day_of_week_wed                2.358408e-02\n",
      "day_of_week_thu                2.272963e-02\n",
      "day_of_week_tue                2.174774e-02\n",
      "poutcome_success               2.077008e-02\n",
      "marital_married                2.027319e-02\n",
      "pdays                          2.007902e-02\n",
      "education_university.degree    1.812312e-02\n",
      "job_technician                 1.678458e-02\n",
      "month_may                      1.652840e-02\n",
      "job_blue-collar                1.651597e-02\n",
      "education_high.school          1.591862e-02\n",
      "marital_single                 1.542808e-02\n",
      "education_basic.9y             1.345597e-02\n",
      "job_services                   1.212904e-02\n",
      "previous                       1.167023e-02\n",
      "job_management                 1.152566e-02\n",
      "education_professional.course  1.004484e-02\n",
      "poutcome_nonexistent           9.392068e-03\n",
      "education_basic.6y             7.158468e-03\n",
      "job_self-employed              6.593904e-03\n",
      "month_oct                      6.358257e-03\n",
      "job_entrepreneur               5.800707e-03\n",
      "job_retired                    5.620187e-03\n",
      "education_unknown              5.280577e-03\n",
      "job_housemaid                  4.723225e-03\n",
      "job_unemployed                 4.212924e-03\n",
      "job_student                    4.200025e-03\n",
      "month_mar                      4.085762e-03\n",
      "month_aug                      3.559082e-03\n",
      "month_jul                      3.240268e-03\n",
      "month_jun                      2.819510e-03\n",
      "loan_unknown                   2.579967e-03\n",
      "housing_unknown                2.539099e-03\n",
      "month_nov                      2.175105e-03\n",
      "month_sep                      1.505753e-03\n",
      "job_unknown                    1.241268e-03\n",
      "month_dec                      4.742096e-04\n",
      "marital_unknown                4.491120e-04\n",
      "education_illiterate           1.306375e-04\n",
      "default_yes                    1.916966e-08\n"
     ]
    }
   ],
   "source": [
    "#Print feature importances for upsampled random forest\n",
    "sort_importance_list(rf2)"
   ]
  },
  {
   "cell_type": "markdown",
   "metadata": {},
   "source": [
    "Like previous models with the upsampled data, while the model predicts the minority class (1 - yes deposit) more often, our scoring metrics of Accuracy and Precision suffer.  "
   ]
  },
  {
   "cell_type": "markdown",
   "metadata": {},
   "source": [
    "### Random Forest Conclusions\n",
    " - The baseline model performs well - 89% accuracy and 53% precision, probably our 2nd best model after our final logistic regression model.\n",
    " - Shows same most important features\n",
    " - The Random Forest model could be improved through hyperparameter tuning, especially to increase our our Precision score and limit False Positives.   However, because each model is a compilation of many decision trees it is computationally expensive and we are going to leave it at the baseline model for now."
   ]
  },
  {
   "cell_type": "markdown",
   "metadata": {},
   "source": [
    "### Comparing Model Performance"
   ]
  },
  {
   "cell_type": "code",
   "execution_count": 75,
   "metadata": {},
   "outputs": [
    {
     "data": {
      "image/png": "[encoded data removed]",
      "text/plain": [
       "<Figure size 2160x1584 with 4 Axes>"
      ]
     },
     "metadata": {
      "needs_background": "light"
     },
     "output_type": "display_data"
    }
   ],
   "source": [
    "#Plot bar charts of scoring metrics of each of our models\n",
    "models = ['logreg', 'logreg2', 'logreg_final', 'tree', 'tree2', 'tree_final', 'rf', 'rf2']\n",
    "\n",
    "acc_scores = [logreg_acc, logreg2_acc, logreg_final_acc, tree_acc, tree2_acc, tree_final_acc, rf_acc, rf2_acc]\n",
    "precision_scores = [logreg_final_precision, logreg2_precision, logreg_final_precision, tree_precision,\n",
    "                    tree2_precision, tree_final_precision, rf_precision, rf2_precision]\n",
    "recall_scores = [logreg_recall, logreg2_recall, logreg_final_recall, tree_recall, tree2_recall, \n",
    "                 tree_final_recall, rf_recall, rf2_recall]\n",
    "f1_scores = [logreg_f1, logreg2_f1, logreg_final_f1, tree_f1, tree2_f1, tree_final_f1, rf_f1, rf2_f1]\n",
    "\n",
    "colors = ['red', 'orange', 'yellow', 'green', 'blue', 'purple', 'black', 'pink']\n",
    "fig, ((ax1, ax2), (ax3, ax4)) = plt.subplots(2,2, figsize=(30,22))\n",
    "ax1.bar(models, acc_scores, alpha = 0.8, color=colors)\n",
    "ax2.bar(models, precision_scores, alpha = 0.8, color=colors)\n",
    "ax3.bar(models, recall_scores, alpha = 0.8, color=colors)\n",
    "ax4.bar(models, f1_scores, alpha = 0.8, color=colors)\n",
    "\n",
    "ax1.set_title('Accuracy Scores', fontsize=20)\n",
    "ax2.set_title('Precision Scores', fontsize=20)\n",
    "ax3.set_title('Recall Scores', fontsize=20)\n",
    "ax4.set_title('F1 Scores', fontsize=20)\n",
    "\n",
    "ax1.xaxis.set_tick_params(labelsize=20, rotation=45)\n",
    "ax2.xaxis.set_tick_params(labelsize=20, rotation=45)\n",
    "ax3.xaxis.set_tick_params(labelsize=20, rotation=45)\n",
    "ax4.xaxis.set_tick_params(labelsize=20, rotation=45)\n",
    "\n",
    "plt.suptitle('Scoring Metrics by Model', fontsize=30, y = 0.93)\n",
    "plt.show()\n"
   ]
  },
  {
   "cell_type": "code",
   "execution_count": 71,
   "metadata": {},
   "outputs": [
    {
     "data": {
      "text/html": [
       "<div>\n",
       "<style scoped>\n",
       "    .dataframe tbody tr th:only-of-type {\n",
       "        vertical-align: middle;\n",
       "    }\n",
       "\n",
       "    .dataframe tbody tr th {\n",
       "        vertical-align: top;\n",
       "    }\n",
       "\n",
       "    .dataframe thead th {\n",
       "        text-align: right;\n",
       "    }\n",
       "</style>\n",
       "<table border=\"1\" class=\"dataframe\">\n",
       "  <thead>\n",
       "    <tr style=\"text-align: right;\">\n",
       "      <th></th>\n",
       "      <th>Accuracy</th>\n",
       "      <th>Precision</th>\n",
       "      <th>Recall</th>\n",
       "      <th>F1</th>\n",
       "    </tr>\n",
       "  </thead>\n",
       "  <tbody>\n",
       "    <tr>\n",
       "      <th>logreg</th>\n",
       "      <td>0.9001</td>\n",
       "      <td>0.6840</td>\n",
       "      <td>0.2246</td>\n",
       "      <td>0.3348</td>\n",
       "    </tr>\n",
       "    <tr>\n",
       "      <th>logreg2</th>\n",
       "      <td>0.8172</td>\n",
       "      <td>0.3294</td>\n",
       "      <td>0.6106</td>\n",
       "      <td>0.4280</td>\n",
       "    </tr>\n",
       "    <tr>\n",
       "      <th>logreg_final</th>\n",
       "      <td>0.8997</td>\n",
       "      <td>0.6840</td>\n",
       "      <td>0.1934</td>\n",
       "      <td>0.3016</td>\n",
       "    </tr>\n",
       "    <tr>\n",
       "      <th>tree</th>\n",
       "      <td>0.8404</td>\n",
       "      <td>0.3015</td>\n",
       "      <td>0.3226</td>\n",
       "      <td>0.3117</td>\n",
       "    </tr>\n",
       "    <tr>\n",
       "      <th>tree2</th>\n",
       "      <td>0.8418</td>\n",
       "      <td>0.3178</td>\n",
       "      <td>0.3599</td>\n",
       "      <td>0.3375</td>\n",
       "    </tr>\n",
       "    <tr>\n",
       "      <th>tree_final</th>\n",
       "      <td>0.8969</td>\n",
       "      <td>0.8013</td>\n",
       "      <td>0.1049</td>\n",
       "      <td>0.1856</td>\n",
       "    </tr>\n",
       "    <tr>\n",
       "      <th>rf</th>\n",
       "      <td>0.8921</td>\n",
       "      <td>0.5337</td>\n",
       "      <td>0.2888</td>\n",
       "      <td>0.3748</td>\n",
       "    </tr>\n",
       "    <tr>\n",
       "      <th>rf2</th>\n",
       "      <td>0.8418</td>\n",
       "      <td>0.3178</td>\n",
       "      <td>0.3599</td>\n",
       "      <td>0.3375</td>\n",
       "    </tr>\n",
       "  </tbody>\n",
       "</table>\n",
       "</div>"
      ],
      "text/plain": [
       "              Accuracy  Precision  Recall      F1\n",
       "logreg          0.9001     0.6840  0.2246  0.3348\n",
       "logreg2         0.8172     0.3294  0.6106  0.4280\n",
       "logreg_final    0.8997     0.6840  0.1934  0.3016\n",
       "tree            0.8404     0.3015  0.3226  0.3117\n",
       "tree2           0.8418     0.3178  0.3599  0.3375\n",
       "tree_final      0.8969     0.8013  0.1049  0.1856\n",
       "rf              0.8921     0.5337  0.2888  0.3748\n",
       "rf2             0.8418     0.3178  0.3599  0.3375"
      ]
     },
     "execution_count": 71,
     "metadata": {},
     "output_type": "execute_result"
    }
   ],
   "source": [
    "#Build and display a dataframe of the 4 scoring metrics for each of our models\n",
    "model_performance = pd.DataFrame(index=models, columns=['Accuracy', 'Precision', 'Recall', 'F1'])\n",
    "model_performance.Accuracy = acc_scores\n",
    "model_performance.Precision = precision_scores\n",
    "model_performance.Recall = recall_scores\n",
    "model_performance.F1 = f1_scores\n",
    "model_performance"
   ]
  },
  {
   "cell_type": "code",
   "execution_count": 72,
   "metadata": {},
   "outputs": [
    {
     "data": {
      "text/html": [
       "<div>\n",
       "<style scoped>\n",
       "    .dataframe tbody tr th:only-of-type {\n",
       "        vertical-align: middle;\n",
       "    }\n",
       "\n",
       "    .dataframe tbody tr th {\n",
       "        vertical-align: top;\n",
       "    }\n",
       "\n",
       "    .dataframe thead th {\n",
       "        text-align: right;\n",
       "    }\n",
       "</style>\n",
       "<table border=\"1\" class=\"dataframe\">\n",
       "  <thead>\n",
       "    <tr style=\"text-align: right;\">\n",
       "      <th></th>\n",
       "      <th>Accuracy</th>\n",
       "      <th>Precision</th>\n",
       "      <th>Recall</th>\n",
       "      <th>F1</th>\n",
       "    </tr>\n",
       "  </thead>\n",
       "  <tbody>\n",
       "    <tr>\n",
       "      <th>tree_final</th>\n",
       "      <td>0.8969</td>\n",
       "      <td>0.8013</td>\n",
       "      <td>0.1049</td>\n",
       "      <td>0.1856</td>\n",
       "    </tr>\n",
       "    <tr>\n",
       "      <th>logreg</th>\n",
       "      <td>0.9001</td>\n",
       "      <td>0.6840</td>\n",
       "      <td>0.2246</td>\n",
       "      <td>0.3348</td>\n",
       "    </tr>\n",
       "    <tr>\n",
       "      <th>logreg_final</th>\n",
       "      <td>0.8997</td>\n",
       "      <td>0.6840</td>\n",
       "      <td>0.1934</td>\n",
       "      <td>0.3016</td>\n",
       "    </tr>\n",
       "    <tr>\n",
       "      <th>rf</th>\n",
       "      <td>0.8921</td>\n",
       "      <td>0.5337</td>\n",
       "      <td>0.2888</td>\n",
       "      <td>0.3748</td>\n",
       "    </tr>\n",
       "    <tr>\n",
       "      <th>logreg2</th>\n",
       "      <td>0.8172</td>\n",
       "      <td>0.3294</td>\n",
       "      <td>0.6106</td>\n",
       "      <td>0.4280</td>\n",
       "    </tr>\n",
       "    <tr>\n",
       "      <th>tree2</th>\n",
       "      <td>0.8418</td>\n",
       "      <td>0.3178</td>\n",
       "      <td>0.3599</td>\n",
       "      <td>0.3375</td>\n",
       "    </tr>\n",
       "    <tr>\n",
       "      <th>rf2</th>\n",
       "      <td>0.8418</td>\n",
       "      <td>0.3178</td>\n",
       "      <td>0.3599</td>\n",
       "      <td>0.3375</td>\n",
       "    </tr>\n",
       "    <tr>\n",
       "      <th>tree</th>\n",
       "      <td>0.8404</td>\n",
       "      <td>0.3015</td>\n",
       "      <td>0.3226</td>\n",
       "      <td>0.3117</td>\n",
       "    </tr>\n",
       "  </tbody>\n",
       "</table>\n",
       "</div>"
      ],
      "text/plain": [
       "              Accuracy  Precision  Recall      F1\n",
       "tree_final      0.8969     0.8013  0.1049  0.1856\n",
       "logreg          0.9001     0.6840  0.2246  0.3348\n",
       "logreg_final    0.8997     0.6840  0.1934  0.3016\n",
       "rf              0.8921     0.5337  0.2888  0.3748\n",
       "logreg2         0.8172     0.3294  0.6106  0.4280\n",
       "tree2           0.8418     0.3178  0.3599  0.3375\n",
       "rf2             0.8418     0.3178  0.3599  0.3375\n",
       "tree            0.8404     0.3015  0.3226  0.3117"
      ]
     },
     "execution_count": 72,
     "metadata": {},
     "output_type": "execute_result"
    }
   ],
   "source": [
    "#View models sorted by Precision Score\n",
    "model_performance.sort_values('Precision', ascending=False)"
   ]
  },
  {
   "cell_type": "code",
   "execution_count": 73,
   "metadata": {},
   "outputs": [
    {
     "data": {
      "text/html": [
       "<div>\n",
       "<style scoped>\n",
       "    .dataframe tbody tr th:only-of-type {\n",
       "        vertical-align: middle;\n",
       "    }\n",
       "\n",
       "    .dataframe tbody tr th {\n",
       "        vertical-align: top;\n",
       "    }\n",
       "\n",
       "    .dataframe thead th {\n",
       "        text-align: right;\n",
       "    }\n",
       "</style>\n",
       "<table border=\"1\" class=\"dataframe\">\n",
       "  <thead>\n",
       "    <tr style=\"text-align: right;\">\n",
       "      <th></th>\n",
       "      <th>Accuracy</th>\n",
       "      <th>Precision</th>\n",
       "      <th>Recall</th>\n",
       "      <th>F1</th>\n",
       "    </tr>\n",
       "  </thead>\n",
       "  <tbody>\n",
       "    <tr>\n",
       "      <th>logreg</th>\n",
       "      <td>0.9001</td>\n",
       "      <td>0.6840</td>\n",
       "      <td>0.2246</td>\n",
       "      <td>0.3348</td>\n",
       "    </tr>\n",
       "    <tr>\n",
       "      <th>logreg_final</th>\n",
       "      <td>0.8997</td>\n",
       "      <td>0.6840</td>\n",
       "      <td>0.1934</td>\n",
       "      <td>0.3016</td>\n",
       "    </tr>\n",
       "    <tr>\n",
       "      <th>tree_final</th>\n",
       "      <td>0.8969</td>\n",
       "      <td>0.8013</td>\n",
       "      <td>0.1049</td>\n",
       "      <td>0.1856</td>\n",
       "    </tr>\n",
       "    <tr>\n",
       "      <th>rf</th>\n",
       "      <td>0.8921</td>\n",
       "      <td>0.5337</td>\n",
       "      <td>0.2888</td>\n",
       "      <td>0.3748</td>\n",
       "    </tr>\n",
       "    <tr>\n",
       "      <th>tree2</th>\n",
       "      <td>0.8418</td>\n",
       "      <td>0.3178</td>\n",
       "      <td>0.3599</td>\n",
       "      <td>0.3375</td>\n",
       "    </tr>\n",
       "    <tr>\n",
       "      <th>rf2</th>\n",
       "      <td>0.8418</td>\n",
       "      <td>0.3178</td>\n",
       "      <td>0.3599</td>\n",
       "      <td>0.3375</td>\n",
       "    </tr>\n",
       "    <tr>\n",
       "      <th>tree</th>\n",
       "      <td>0.8404</td>\n",
       "      <td>0.3015</td>\n",
       "      <td>0.3226</td>\n",
       "      <td>0.3117</td>\n",
       "    </tr>\n",
       "    <tr>\n",
       "      <th>logreg2</th>\n",
       "      <td>0.8172</td>\n",
       "      <td>0.3294</td>\n",
       "      <td>0.6106</td>\n",
       "      <td>0.4280</td>\n",
       "    </tr>\n",
       "  </tbody>\n",
       "</table>\n",
       "</div>"
      ],
      "text/plain": [
       "              Accuracy  Precision  Recall      F1\n",
       "logreg          0.9001     0.6840  0.2246  0.3348\n",
       "logreg_final    0.8997     0.6840  0.1934  0.3016\n",
       "tree_final      0.8969     0.8013  0.1049  0.1856\n",
       "rf              0.8921     0.5337  0.2888  0.3748\n",
       "tree2           0.8418     0.3178  0.3599  0.3375\n",
       "rf2             0.8418     0.3178  0.3599  0.3375\n",
       "tree            0.8404     0.3015  0.3226  0.3117\n",
       "logreg2         0.8172     0.3294  0.6106  0.4280"
      ]
     },
     "execution_count": 73,
     "metadata": {},
     "output_type": "execute_result"
    }
   ],
   "source": [
    "#View models sorted by Accuracy Score\n",
    "model_performance.sort_values('Accuracy', ascending=False)"
   ]
  },
  {
   "cell_type": "markdown",
   "metadata": {},
   "source": [
    "#### Another look at Distributions of our Most Important Features\n",
    " * euribor3m, age, nr.employed and emp.var.rate commonly appear among the most important features in our tree models.\n",
    " * We will show violin plots of these features, by target class."
   ]
  },
  {
   "cell_type": "code",
   "execution_count": 74,
   "metadata": {},
   "outputs": [
    {
     "name": "stdout",
     "output_type": "stream",
     "text": [
      "\n",
      "\n"
     ]
    },
    {
     "data": {
      "image/png": "[encoded data removed]",
      "text/plain": [
       "<Figure size 576x432 with 1 Axes>"
      ]
     },
     "metadata": {
      "needs_background": "light"
     },
     "output_type": "display_data"
    },
    {
     "name": "stdout",
     "output_type": "stream",
     "text": [
      "\n",
      "\n"
     ]
    },
    {
     "data": {
      "image/png": "[encoded data removed]",
      "text/plain": [
       "<Figure size 576x432 with 1 Axes>"
      ]
     },
     "metadata": {
      "needs_background": "light"
     },
     "output_type": "display_data"
    },
    {
     "name": "stdout",
     "output_type": "stream",
     "text": [
      "\n",
      "\n"
     ]
    },
    {
     "data": {
      "image/png": "[encoded data removed]",
      "text/plain": [
       "<Figure size 576x432 with 1 Axes>"
      ]
     },
     "metadata": {
      "needs_background": "light"
     },
     "output_type": "display_data"
    },
    {
     "name": "stdout",
     "output_type": "stream",
     "text": [
      "\n",
      "\n"
     ]
    },
    {
     "data": {
      "image/png": "[encoded data removed]",
      "text/plain": [
       "<Figure size 576x432 with 1 Axes>"
      ]
     },
     "metadata": {
      "needs_background": "light"
     },
     "output_type": "display_data"
    }
   ],
   "source": [
    "#Plot violin plots for 4 features, grouped by target deposit class\n",
    "df['all'] = ''\n",
    "for col in ['euribor3m', 'age', 'nr.employed', 'emp.var.rate']:\n",
    "    fig = plt.figure(figsize = (8,6))\n",
    "    ax = fig.add_subplot(111)\n",
    "    ax = sns.violinplot(x='all', y=col, data=df, hue='deposit', hue_order=['yes', 'no'], orient=\"v\")\n",
    "    ax.set_title(f'{col} by yes or no deposit', fontsize = 15)\n",
    "    plt.xlabel(\"\")\n",
    "    print('\\n')\n",
    "    plt.show()"
   ]
  },
  {
   "cell_type": "markdown",
   "metadata": {},
   "source": [
    "#### Important Feature Insights:\n",
    " * The lower the euribor3m rate, the more likely customers are to subscribe.\n",
    " * The age range of subscribers looks bigger, but peaks slightly younger.\n",
    " * People are more likely to subscribe when the nr.employed and emp.var.rate indicators are lower. "
   ]
  },
  {
   "cell_type": "markdown",
   "metadata": {},
   "source": [
    "## Conclusions"
   ]
  },
  {
   "cell_type": "markdown",
   "metadata": {},
   "source": [
    "* We ran a total of 8 machine learning models (3 Logistic Regression, 3 Decision Trees and 2 Random Forests) using original and upsampled data from the Bank Marketing Dataset.  \n",
    "* Several models had an Accuracy Score in the 89-90% range.  Our Final Decision Tree model scored highest in Precision at 80%.\n",
    "* For Logistic Regression and Decision Tree models, we performed hyperparameter tuning to optimize for Precision.  The goal was to minimize False Positives to avoid missing out on misclassified customers who had not subscribed to the term deposit.\n",
    "* The baseline Random Forest Model showed promise but due to time constraints we did not do any hyperparameter tuning to further optimize it.\n",
    "* Feature Importance analysis showed that social and economic variables were for the main part the most important predictors of whether the customers make the deposit.  Makes the timing of the marketing campaign the most important thing.\n"
   ]
  },
  {
   "cell_type": "markdown",
   "metadata": {},
   "source": [
    "### Future Work\n",
    "* Run other classification algorithms and ensemble methods to compare the results to our existing model as well as continue to tune the models we did use (especially Random Forest)\n",
    "* While the scores would likely suffer, would be interesting to model and attempt to make predictions with just the client data (without the social/economic factors) to see what insights can be gleaned and improve the targeted client marketing for future investment products.\n"
   ]
  },
  {
   "cell_type": "code",
   "execution_count": null,
   "metadata": {},
   "outputs": [],
   "source": []
  }
 ],
 "metadata": {
  "kernelspec": {
   "display_name": "learn-env",
   "language": "python",
   "name": "learn-env"
  },
  "language_info": {
   "codemirror_mode": {
    "name": "ipython",
    "version": 3
   },
   "file_extension": ".py",
   "mimetype": "text/x-python",
   "name": "python",
   "nbconvert_exporter": "python",
   "pygments_lexer": "ipython3",
   "version": "3.6.6"
  }
 },
 "nbformat": 4,
 "nbformat_minor": 2
}
